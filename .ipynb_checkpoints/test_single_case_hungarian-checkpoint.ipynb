{
 "cells": [
  {
   "cell_type": "code",
   "execution_count": 66,
   "metadata": {},
   "outputs": [],
   "source": [
    "import numpy as np\n",
    "import pandas as pd\n",
    "from neuromaps.images import load_data, load_gifti, annot_to_gifti, relabel_gifti\n",
    "from neuromaps.datasets import fetch_annotation\n",
    "from neuromaps.resampling import resample_images\n",
    "from neuromaps.nulls import hungarian\n",
    "from neuromaps.parcellate import Parcellater\n",
    "from scipy.stats import pearsonr \n",
    "import matplotlib.pyplot as plt\n",
    "from statsmodels.stats.multitest import multipletests\n",
    "from neuromaps import parcellate\n",
    "from neuromaps import transforms \n",
    "from neuromaps.stats import compare_images\n"
   ]
  },
  {
   "cell_type": "code",
   "execution_count": 67,
   "metadata": {},
   "outputs": [],
   "source": [
    "# get parcellater\n",
    "path = '/Users/laurituominen/Documents/Research/Reettis/neuromaps/'\n",
    "dk_mni = path + 'parcellations/atlas-desikankilliany_space-MNI_res-1mm.nii.gz'\n",
    "parcellater_mni = Parcellater(dk_mni, 'MNI152')\n"
   ]
  },
  {
   "cell_type": "code",
   "execution_count": 68,
   "metadata": {},
   "outputs": [],
   "source": [
    "# get enigma map\n",
    "enigmamap = pd.read_csv(path+'data/ENIGMA_S32_partial_correlation_between_cortical_thickness_and_chlorpromazine_equivalents.csv')\n",
    "enigmamap.drop([68, 69], inplace=True)  # remove the last two rows\n",
    "enigma_parc = enigmamap['partial_r'].to_numpy()\n",
    "\n",
    "# list of cortical/subcortical regions for MNI152 \n",
    "rois = pd.read_csv(path+'parcellations/atlas-desikankilliany.csv')\n",
    "rois = rois[(rois['structure'] == 'cortex')].id.to_numpy()"
   ]
  },
  {
   "cell_type": "code",
   "execution_count": 69,
   "metadata": {},
   "outputs": [],
   "source": [
    "# get and parcellate annot, then select only cortical rois \n",
    "annot = fetch_annotation(source='ding2010', desc='mrb', space='MNI152', den='1mm')\n",
    "parcellated_annot = parcellater_mni.fit_transform(annot, space='MNI152', ignore_background_data=True)\n",
    "parcellated_annot = parcellated_annot[0][rois]\n"
   ]
  },
  {
   "cell_type": "code",
   "execution_count": 70,
   "metadata": {},
   "outputs": [
    {
     "name": "stdout",
     "output_type": "stream",
     "text": [
      "0.15938526743063441 0.19008099190080993\n",
      "0.19008099190080993\n"
     ]
    }
   ],
   "source": [
    "# get spins \n",
    "spins = pd.read_csv(path + 'parcellations/spins_hungarian_aparc+aseg_ctx.csv', header=None)\n",
    "nspins = spins.values.shape[1]\n",
    "\n",
    "# do rotate\n",
    "rotated = hungarian(data=parcellated_annot, n_perm=10000, spins=spins, parcellation=dk_mni) \n",
    "\n",
    "# get rho\n",
    "rho, pval = compare_images(parcellated_annot, enigma_parc, nulls=rotated)\n",
    "print(rho, pval)\n",
    "\n",
    " # run spin test \"manually\" to save null distributions for plotting\n",
    "n = np.zeros((nspins, ))\n",
    "for i in range(nspins):\n",
    "    n[i] = pearsonr(enigma_parc, rotated[:,i])[0]\n",
    "\n",
    "# calculate p-value\n",
    "pspin = (1 + sum(abs(n) > abs(rho) )) / (nspins + 1)\n",
    "print(pspin)"
   ]
  },
  {
   "cell_type": "code",
   "execution_count": null,
   "metadata": {},
   "outputs": [],
   "source": []
  }
 ],
 "metadata": {
  "kernelspec": {
   "display_name": "Python 3",
   "language": "python",
   "name": "python3"
  },
  "language_info": {
   "codemirror_mode": {
    "name": "ipython",
    "version": 3
   },
   "file_extension": ".py",
   "mimetype": "text/x-python",
   "name": "python",
   "nbconvert_exporter": "python",
   "pygments_lexer": "ipython3",
   "version": "3.7.6"
  }
 },
 "nbformat": 4,
 "nbformat_minor": 4
}
