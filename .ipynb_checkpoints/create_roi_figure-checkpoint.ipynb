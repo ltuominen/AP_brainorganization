{
 "cells": [
  {
   "cell_type": "code",
   "execution_count": 1,
   "metadata": {},
   "outputs": [
    {
     "name": "stdout",
     "output_type": "stream",
     "text": [
      "Notebook initialized with x3d backend.\n"
     ]
    }
   ],
   "source": [
    "from surfer import Brain\n",
    "import os \n",
    "from mayavi import mlab\n",
    "mlab.init_notebook()"
   ]
  },
  {
   "cell_type": "code",
   "execution_count": 2,
   "metadata": {},
   "outputs": [
    {
     "data": {
      "text/plain": [
       "['lh.AP_exposure',\n",
       " 'rh.AP_exposure_GAF',\n",
       " 'rh.AP_exposure',\n",
       " 'lh.AP_exposure_GAF',\n",
       " 'rh.AP_exposure_times_admitted',\n",
       " 'lh.AP_exposure_hospital_days',\n",
       " 'lh.AP_exposure_SOFAS',\n",
       " 'lh.AP_exposure_times_admitted',\n",
       " 'rh.AP_exposure_hospital_days',\n",
       " 'rh.AP_exposure_SOFAS']"
      ]
     },
     "execution_count": 2,
     "metadata": {},
     "output_type": "execute_result"
    }
   ],
   "source": [
    "folders = []\n",
    "for f in os.listdir(os.getcwd()): \n",
    "    if os.path.isdir(f) and f[0:2] in ['lh', 'rh']:\n",
    "        folders.append(f)\n",
    "        \n",
    "folders"
   ]
  },
  {
   "cell_type": "code",
   "execution_count": null,
   "metadata": {},
   "outputs": [],
   "source": [
    "folders = []\n",
    "for f in os.listdir(os.getcwd()): \n",
    "    if os.path.isdir(f) and f[0:2] in ['lh', 'rh']:\n",
    "        folders.append(f)\n",
    "\n",
    "for d in folders:\n",
    "    dd = os.listdir(os.path.join(os.getcwd(), d))[0]\n",
    "    hemi = d[0:2]\n",
    "    ov = os.path.join(os.getcwd(), d , dd ,'perm.th13.abs.sig.masked.mgh')\n",
    "    brain = Brain('fsaverage', hemi, 'inflated', views=['lat', 'med', 'frontal', 'par'], background='white')\n",
    "    brain.add_overlay(ov,min=1.3)\n",
    "    name = d + '.th13.png'\n",
    "    brain.save_image(name)\n",
    "    brain.close()\n",
    "    ov = os.path.join(os.getcwd(), d , dd ,'perm.th20.abs.sig.masked.mgh')\n",
    "    brain = Brain('fsaverage', hemi, 'inflated', views=['lat', 'med', 'frontal', 'par'], background='white')\n",
    "    brain.add_overlay(ov,min=2)\n",
    "    name = d + '.th20.png'\n",
    "    brain.save_image(name)\n",
    "    brain.close()"
   ]
  },
  {
   "cell_type": "code",
   "execution_count": 5,
   "metadata": {},
   "outputs": [
    {
     "ename": "NameError",
     "evalue": "name 'labels' is not defined",
     "output_type": "error",
     "traceback": [
      "\u001b[0;31m---------------------------------------------------------------------------\u001b[0m",
      "\u001b[0;31mNameError\u001b[0m                                 Traceback (most recent call last)",
      "\u001b[0;32m<ipython-input-5-a3ee78ef061a>\u001b[0m in \u001b[0;36m<module>\u001b[0;34m\u001b[0m\n\u001b[1;32m      1\u001b[0m \u001b[0mbrain\u001b[0m \u001b[0;34m=\u001b[0m \u001b[0mBrain\u001b[0m\u001b[0;34m(\u001b[0m\u001b[0;34m'fsaverage'\u001b[0m\u001b[0;34m,\u001b[0m \u001b[0;34m'split'\u001b[0m\u001b[0;34m,\u001b[0m \u001b[0;34m'inflated'\u001b[0m\u001b[0;34m,\u001b[0m \u001b[0mviews\u001b[0m\u001b[0;34m=\u001b[0m\u001b[0;34m[\u001b[0m\u001b[0;34m'lat'\u001b[0m\u001b[0;34m,\u001b[0m \u001b[0;34m'med'\u001b[0m\u001b[0;34m,\u001b[0m \u001b[0;34m'frontal'\u001b[0m\u001b[0;34m,\u001b[0m \u001b[0;34m'par'\u001b[0m\u001b[0;34m]\u001b[0m\u001b[0;34m,\u001b[0m \u001b[0mbackground\u001b[0m\u001b[0;34m=\u001b[0m\u001b[0;34m'white'\u001b[0m\u001b[0;34m)\u001b[0m\u001b[0;34m\u001b[0m\u001b[0;34m\u001b[0m\u001b[0m\n\u001b[0;32m----> 2\u001b[0;31m \u001b[0;32mfor\u001b[0m \u001b[0ml\u001b[0m \u001b[0;32min\u001b[0m \u001b[0mlabels\u001b[0m\u001b[0;34m:\u001b[0m\u001b[0;34m\u001b[0m\u001b[0;34m\u001b[0m\u001b[0m\n\u001b[0m\u001b[1;32m      3\u001b[0m     \u001b[0mbrain\u001b[0m\u001b[0;34m.\u001b[0m\u001b[0madd_label\u001b[0m\u001b[0;34m(\u001b[0m\u001b[0mos\u001b[0m\u001b[0;34m.\u001b[0m\u001b[0mpath\u001b[0m\u001b[0;34m.\u001b[0m\u001b[0mjoin\u001b[0m\u001b[0;34m(\u001b[0m\u001b[0mos\u001b[0m\u001b[0;34m.\u001b[0m\u001b[0mgetcwd\u001b[0m\u001b[0;34m(\u001b[0m\u001b[0;34m)\u001b[0m\u001b[0;34m,\u001b[0m \u001b[0ml\u001b[0m\u001b[0;34m)\u001b[0m\u001b[0;34m,\u001b[0m \u001b[0mhemi\u001b[0m\u001b[0;34m=\u001b[0m\u001b[0ml\u001b[0m\u001b[0;34m[\u001b[0m\u001b[0;36m0\u001b[0m\u001b[0;34m:\u001b[0m\u001b[0;36m2\u001b[0m\u001b[0;34m]\u001b[0m\u001b[0;34m,\u001b[0m \u001b[0malpha\u001b[0m\u001b[0;34m=\u001b[0m\u001b[0;36m1\u001b[0m\u001b[0;34m,\u001b[0m \u001b[0mcolor\u001b[0m\u001b[0;34m=\u001b[0m\u001b[0mcolors\u001b[0m\u001b[0;34m[\u001b[0m\u001b[0ml\u001b[0m\u001b[0;34m[\u001b[0m\u001b[0;36m3\u001b[0m\u001b[0;34m:\u001b[0m\u001b[0;36m6\u001b[0m\u001b[0;34m]\u001b[0m\u001b[0;34m]\u001b[0m \u001b[0;34m)\u001b[0m\u001b[0;34m\u001b[0m\u001b[0;34m\u001b[0m\u001b[0m\n\u001b[1;32m      4\u001b[0m     \u001b[0mprint\u001b[0m\u001b[0;34m(\u001b[0m\u001b[0ml\u001b[0m\u001b[0;34m)\u001b[0m\u001b[0;34m\u001b[0m\u001b[0;34m\u001b[0m\u001b[0m\n",
      "\u001b[0;31mNameError\u001b[0m: name 'labels' is not defined"
     ]
    }
   ],
   "source": [
    "\n",
    "brain = Brain('fsaverage', 'split', 'inflated', views=['lat', 'med', 'frontal', 'par'], background='white')\n",
    "for l in labels:\n",
    "    brain.add_label(os.path.join(os.getcwd(), l), hemi=l[0:2], alpha=1, color=colors[l[3:6]] )\n",
    "    print(l)"
   ]
  },
  {
   "cell_type": "code",
   "execution_count": 15,
   "metadata": {},
   "outputs": [],
   "source": [
    "brain.save_image('regions_of_interest_noalpha.png')"
   ]
  },
  {
   "cell_type": "code",
   "execution_count": null,
   "metadata": {},
   "outputs": [],
   "source": []
  }
 ],
 "metadata": {
  "kernelspec": {
   "display_name": "Python 3",
   "language": "python",
   "name": "python3"
  },
  "language_info": {
   "codemirror_mode": {
    "name": "ipython",
    "version": 3
   },
   "file_extension": ".py",
   "mimetype": "text/x-python",
   "name": "python",
   "nbconvert_exporter": "python",
   "pygments_lexer": "ipython3",
   "version": "3.7.6"
  }
 },
 "nbformat": 4,
 "nbformat_minor": 4
}
