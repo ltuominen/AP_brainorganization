{
 "cells": [
  {
   "cell_type": "code",
   "execution_count": 21,
   "metadata": {},
   "outputs": [],
   "source": [
    "import numpy as np\n",
    "import pandas as pd\n",
    "from neuromaps.images import load_data, load_gifti, annot_to_gifti\n",
    "from neuromaps.datasets import fetch_annotation\n",
    "from neuromaps.resampling import resample_images\n",
    "from neuromaps.nulls import alexander_bloch, burt2020\n",
    "from neuromaps.parcellate import Parcellater\n",
    "from scipy.stats import pearsonr\n",
    "import matplotlib.pyplot as plt\n",
    "from statsmodels.stats.multitest import multipletests\n",
    "from neuromaps.images import relabel_gifti\n",
    "from neuromaps import parcellate\n",
    "from neuromaps import transforms \n",
    "from neuromaps.stats import compare_images\n",
    "from neuromaps.nulls import hungarian\n"
   ]
  },
  {
   "cell_type": "code",
   "execution_count": 22,
   "metadata": {},
   "outputs": [],
   "source": [
    "\n",
    "# get parcellation\n",
    "path = '/Users/laurituominen/Documents/Research/Reettis/neuromaps/'\n",
    "# load in parcellation file\n",
    "dk_fsaverage_10k = (path + 'parcellations/atlas-desikankilliany_space-fsaverage_den-10k_hemi-L.label.gii.gz',\n",
    "                     path + 'parcellations/atlas-desikankilliany_space-fsaverage_den-10k_hemi-R.label.gii.gz')\n",
    "dk_fsaverage_164k = (path + 'parcellations/atlas-desikankilliany_space-fsaverage_den-164k_hemi-L.aparc-1.annot',\n",
    "                     path + 'parcellations/atlas-desikankilliany_space-fsaverage_den-164k_hemi-R.aparc-1.annot')\n",
    "dk_mni = path + 'parcellations/atlas-desikankilliany_space-MNI_res-1mm.nii.gz'\n",
    "\n",
    "# make sure label IDs are consecutive across hemispheres\n",
    "dk_fsaverage_10k = relabel_gifti(dk_fsaverage_10k)\n",
    "dk_fsaverage_164k = annot_to_gifti(dk_fsaverage_164k)  # this does relabel_gift and also converts the annot file to gifti\n",
    "\n",
    "# make the parcellaters\n",
    "parcellater_fs10k = Parcellater(dk_fsaverage_10k, 'fsaverage')\n",
    "parcellater_fs164k = Parcellater(dk_fsaverage_164k, 'fsaverage')\n",
    "parcellater_mni = Parcellater(dk_mni, 'MNI152')"
   ]
  },
  {
   "cell_type": "code",
   "execution_count": 23,
   "metadata": {},
   "outputs": [],
   "source": [
    "\n",
    "# download enigma\n",
    "enigmamap = pd.read_csv(path+'data/ENIGMA_S32_partial_correlation_between_cortical_thickness_and_chlorpromazine_equivalents.csv')\n",
    "enigmamap.drop([68, 69], inplace=True)  # remove the last two rows\n",
    "enigma_parc = enigmamap['partial_r'].to_numpy()\n",
    "\n",
    "\n",
    "# download the regions for MNI152 \n",
    "rois = pd.read_csv(path+'parcellations/atlas-desikankilliany.csv')\n",
    "rois = rois[(rois['structure'] == 'cortex')].id.to_numpy()\n"
   ]
  },
  {
   "cell_type": "code",
   "execution_count": 24,
   "metadata": {},
   "outputs": [],
   "source": [
    "annotations = list(fetch_annotation(source=['hcps1200',\n",
    "                                            'margulies2016',\n",
    "                                            'raichle',\n",
    "                                            'ding2010', \n",
    "                                            'finnema2016', \n",
    "                                            'dubois2015',\n",
    "                                            'dukart2018',\n",
    "                                            'gallezot2010',\n",
    "                                            'gallezot2017',\n",
    "                                            'hillmer2016',\n",
    "                                            'jaworska2020',\n",
    "                                            'kaller2017',\n",
    "                                            'kantonen2020',\n",
    "                                            'laurikainen2018',\n",
    "                                            'normandin2015',\n",
    "                                            'radnakrishnan2018',\n",
    "                                            'sandiego2015',\n",
    "                                            'satterthwaite2014',\n",
    "                                            'sasaki2012',\n",
    "                                            'savli2012',\n",
    "                                            'satterthwaite2014',\n",
    "                                            'smith2017',\n",
    "                                            'tuominen',\n",
    "                                            'neurosynth']).keys())\n",
    "\n",
    "annotations.extend(fetch_annotation(source=['norgaard2021', 'beliveau2017'], space='fsaverage').keys())\n"
   ]
  },
  {
   "cell_type": "code",
   "execution_count": 5,
   "metadata": {},
   "outputs": [
    {
     "name": "stderr",
     "output_type": "stream",
     "text": [
      "/Users/laurituominen/anaconda3/lib/python3.7/site-packages/scipy/ndimage/measurements.py:684: RuntimeWarning: invalid value encountered in true_divide\n",
      "  return sum / numpy.asanyarray(count).astype(numpy.float64)\n"
     ]
    }
   ],
   "source": [
    "parcellated = dict([])\n",
    "for (src, desc, space, den) in annotations:\n",
    "\n",
    "    annot = fetch_annotation(source=src, desc=desc, space=space, den=den)\n",
    "\n",
    "    if space == 'MNI152':\n",
    "        parcellater = parcellater_mni\n",
    "    elif space == 'fsaverage' and den == '164k':\n",
    "        parcellater = parcellater_fs164k\n",
    "    elif space == 'fsLR' and den == '164k':\n",
    "        space = 'fsaverage'\n",
    "        annot = transforms.fslr_to_fsaverage(annot, target_density='164k')\n",
    "        parcellater = parcellater_fs164k\n",
    "    elif space == 'fsLR' and den != '164k':\n",
    "        # unfortunately for fsLR-4k we are upsampling to fsaverage-10k to parcellate but it should be fine\n",
    "        space = 'fsaverage'\n",
    "        annot = transforms.fslr_to_fsaverage(annot, target_density='10k')\n",
    "        parcellater = parcellater_fs10k\n",
    "\n",
    "    parcellated[desc] = parcellater.fit_transform(annot, space=space, ignore_background_data=True)\n"
   ]
  },
  {
   "cell_type": "code",
   "execution_count": 13,
   "metadata": {},
   "outputs": [],
   "source": [
    "for p in parcellated:\n",
    "    if parcellated[p].shape == (1,83):\n",
    "        parcellated[p] = parcellated[p][0][rois]"
   ]
  },
  {
   "cell_type": "code",
   "execution_count": 15,
   "metadata": {},
   "outputs": [],
   "source": [
    "# get spins \n",
    "spins = pd.read_csv(path + 'parcellations/spins_hungarian_aparc+aseg_ctx.csv', header=None)\n",
    "nspins = spins.values.shape[1]\n"
   ]
  },
  {
   "cell_type": "code",
   "execution_count": 28,
   "metadata": {},
   "outputs": [
    {
     "name": "stdout",
     "output_type": "stream",
     "text": [
      "r = 0.159, p = 0.190\n"
     ]
    }
   ],
   "source": [
    "a = annotations[0]\n",
    "(src, desc, space, den) = a\n",
    "\n",
    "parcellation=dk_mni\n",
    "\n",
    "rotated = hungarian(data=parcellated[desc], n_perm=10000, spins=spins, parcellation=parcellation) \n",
    "corr, pval = compare_images(parcellated[desc], enigma_parc, nulls=rotated)\n",
    "print(f'r = {corr:.3f}, p = {pval:.3f}')\n",
    "\n"
   ]
  },
  {
   "cell_type": "code",
   "execution_count": 29,
   "metadata": {},
   "outputs": [
    {
     "name": "stdout",
     "output_type": "stream",
     "text": [
      " mrb r = 0.159, p = 0.190\n",
      " abp688 r = 0.195, p = 0.119\n",
      " flumazenil r = 0.020, p = 0.878\n",
      " fpcit r = 0.211, p = 0.085\n",
      " ucbj r = 0.023, p = 0.843\n",
      " p943 r = -0.118, p = 0.371\n",
      " gsk189254 r = 0.223, p = 0.077\n",
      " megalpha r = 0.352, p = 0.005\n",
      " megbeta r = -0.198, p = 0.097\n",
      " megdelta r = -0.229, p = 0.082\n",
      " meggamma1 r = -0.296, p = 0.019\n",
      " meggamma2 r = -0.199, p = 0.123\n",
      " megtheta r = -0.396, p = 0.002\n",
      " megtimescale r = -0.178, p = 0.165\n",
      " myelinmap r = 0.270, p = 0.034\n",
      " thickness r = -0.290, p = 0.013\n",
      " flubatine r = 0.057, p = 0.614\n",
      " fallypride r = 0.142, p = 0.225\n",
      " sch23390 r = 0.141, p = 0.249\n",
      " carfentanil r = 0.235, p = 0.066\n",
      " fmpepd2 r = 0.120, p = 0.335\n",
      " fcgradient01 r = -0.365, p = 0.006\n",
      " fcgradient02 r = 0.306, p = 0.018\n",
      " fcgradient03 r = -0.199, p = 0.106\n",
      " fcgradient04 r = 0.402, p = 0.001\n",
      " fcgradient05 r = -0.265, p = 0.028\n",
      " fcgradient06 r = 0.194, p = 0.126\n",
      " fcgradient07 r = 0.245, p = 0.047\n",
      " fcgradient08 r = 0.102, p = 0.376\n",
      " fcgradient09 r = -0.093, p = 0.413\n",
      " fcgradient10 r = -0.044, p = 0.736\n",
      " cogpc1 r = 0.006, p = 0.965\n",
      " omar r = 0.292, p = 0.022\n",
      " gsk215083 r = 0.085, p = 0.484\n",
      " cbf r = 0.063, p = 0.586\n",
      " cbv r = 0.357, p = 0.008\n",
      " cmr02 r = 0.098, p = 0.411\n",
      " cmruglu r = -0.159, p = 0.164\n",
      " flb457 r = 0.193, p = 0.108\n",
      " fepe2i r = 0.074, p = 0.503\n",
      " meancbf r = -0.013, p = 0.916\n",
      " altanserin r = -0.008, p = 0.946\n",
      " dasb r = 0.170, p = 0.147\n",
      " p943 r = -0.118, p = 0.371\n",
      " way100635 r = 0.229, p = 0.067\n",
      " flb457 r = 0.193, p = 0.108\n",
      " feobv r = 0.193, p = 0.102\n",
      " az10419369 r = 0.011, p = 0.931\n",
      " cimbi36 r = 0.112, p = 0.355\n",
      " cumi101 r = 0.290, p = 0.019\n",
      " dasb r = 0.170, p = 0.147\n",
      " sb207145 r = 0.254, p = 0.036\n",
      " flumazenil r = 0.020, p = 0.878\n"
     ]
    }
   ],
   "source": [
    "for a in annotations:\n",
    "    (src, desc, space, den) = a\n",
    "    if space == 'MNI152':\n",
    "        parcellation=dk_mni\n",
    "        \n",
    "    elif space == 'fsaverage' and den == '164k':\n",
    "        parcellation=dk_fsaverage_164k\n",
    "        \n",
    "    elif space == 'fsLR' and den == '164k':\n",
    "        parcellation=dk_fsaverage_164k\n",
    "        \n",
    "    elif space == 'fsLR' and den != '164k':\n",
    "        parcellation=dk_fsaverage_10k\n",
    "\n",
    "    rotated = hungarian(data=parcellated[desc], n_perm=10000, spins=spins, parcellation=parcellation) \n",
    "    \n",
    "    corr, pval = compare_images(parcellated[desc], enigma_parc, nulls=rotated)\n",
    "    print(f' {desc} r = {corr:.3f}, p = {pval:.3f}')\n"
   ]
  },
  {
   "cell_type": "code",
   "execution_count": null,
   "metadata": {},
   "outputs": [],
   "source": []
  }
 ],
 "metadata": {
  "kernelspec": {
   "display_name": "Python 3",
   "language": "python",
   "name": "python3"
  },
  "language_info": {
   "codemirror_mode": {
    "name": "ipython",
    "version": 3
   },
   "file_extension": ".py",
   "mimetype": "text/x-python",
   "name": "python",
   "nbconvert_exporter": "python",
   "pygments_lexer": "ipython3",
   "version": "3.7.6"
  }
 },
 "nbformat": 4,
 "nbformat_minor": 4
}
