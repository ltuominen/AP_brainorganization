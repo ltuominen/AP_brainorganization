{
 "cells": [
  {
   "cell_type": "code",
   "execution_count": 1,
   "metadata": {},
   "outputs": [
    {
     "ename": "ModuleNotFoundError",
     "evalue": "No module named 'surfer'",
     "output_type": "error",
     "traceback": [
      "\u001b[0;31m---------------------------------------------------------------------------\u001b[0m",
      "\u001b[0;31mModuleNotFoundError\u001b[0m                       Traceback (most recent call last)",
      "Cell \u001b[0;32mIn[1], line 1\u001b[0m\n\u001b[0;32m----> 1\u001b[0m \u001b[38;5;28;01mfrom\u001b[39;00m \u001b[38;5;21;01msurfer\u001b[39;00m \u001b[38;5;28;01mimport\u001b[39;00m Brain\n\u001b[1;32m      2\u001b[0m \u001b[38;5;28;01mimport\u001b[39;00m \u001b[38;5;21;01mos\u001b[39;00m \n\u001b[1;32m      3\u001b[0m \u001b[38;5;28;01mfrom\u001b[39;00m \u001b[38;5;21;01mmayavi\u001b[39;00m \u001b[38;5;28;01mimport\u001b[39;00m mlab\n",
      "\u001b[0;31mModuleNotFoundError\u001b[0m: No module named 'surfer'"
     ]
    }
   ],
   "source": [
    "from surfer import Brain\n",
    "import os \n",
    "from mayavi import mlab\n",
    "mlab.init_notebook()"
   ]
  },
  {
   "cell_type": "code",
   "execution_count": 6,
   "metadata": {},
   "outputs": [],
   "source": [
    "path = '/Users/laurituominen/Documents/Research/Reettis/neuromaps/'\n",
    "\n",
    "for hemi in ['lh', 'rh']:\n",
    "    for v in ['lat', 'med', 'frontal', 'par']:\n",
    "        ov = os.path.join(path, 'data', hemi + '.perm.th13.abs.sig.masked.mgh')\n",
    "        brain = Brain('fsaverage', hemi, 'inflated', views=v, background='white')\n",
    "        brain.add_overlay(ov,min=1.3)\n",
    "        name = path + 'figures/' +  hemi +  '.' + v + '.th13.png'\n",
    "        brain.save_image(name)\n",
    "        brain.close()\n",
    "        \n",
    "        ov = os.path.join(path, 'data', hemi + '.perm.th20.abs.sig.masked.mgh')\n",
    "        brain = Brain('fsaverage', hemi, 'inflated', views=v, background='white')\n",
    "        brain.add_overlay(ov,min=2)\n",
    "        name = path + 'figures/' +  hemi +  '.' + v + '.th20.png'\n",
    "        brain.save_image(name)\n",
    "        brain.close()"
   ]
  }
 ],
 "metadata": {
  "kernelspec": {
   "display_name": "Python 3 (ipykernel)",
   "language": "python",
   "name": "python3"
  },
  "language_info": {
   "codemirror_mode": {
    "name": "ipython",
    "version": 3
   },
   "file_extension": ".py",
   "mimetype": "text/x-python",
   "name": "python",
   "nbconvert_exporter": "python",
   "pygments_lexer": "ipython3",
   "version": "3.10.9"
  }
 },
 "nbformat": 4,
 "nbformat_minor": 4
}
