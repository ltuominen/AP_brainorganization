library('tidyverse')
library('robustbase')
library('corrplot')
library('RColorBrewer')


master <- "/Users/laurituominen/Documents/Research/Reettis/old_new_analyses/master/"
dat <- read_csv(paste0(master, 'merged_data.csv'),show_col_types = FALSE)

dat <- dat %>% mutate(Sex = factor(Sex, levels = c('M', 'F')),
                      group =factor(Group, levels=c('CTR', 'CHR', 'FEP')))

# exposure vs cortical thickness 
model <- dat %>% filter(group %in% c('FEP', 'CHR')) %>% 
  lmrob(mean_thickness ~ Lifetime_ap_exposure + Age + Sex + Group, na.action=na.omit, data=.)

model %>% summary()


model %>% confint()

print(paste('residuals:', model$df.residual))


# covariates in sensitivity analyses 
covars <- c("Total_symptoms_score", "Positive_symptoms_score", "Negative_symptoms_score", "BMI", "Hospital_days", "Times_admitted",
            "GAF", "SOFAS")

# estimate the effects including one of the sensitivity covariates in the model at the time 
vals <- matrix(nrow=length(covars), ncol=7 )
for (i in seq(from=1,to=length(covars))){
  formula <- reformulate(termlabels =  c("Lifetime_ap_exposure","Age","Sex","Group", covars[i]), response = 'mean_thickness')
  m <- dat %>% filter(group %in% c('FEP', 'CHR')) %>%
    lmrob(formula = formula, data=.)
  vals[i,]<- c(m$df.residual, as.vector(summary(m)$coefficients[2,]), as.vector(confint(m)[2,])) # get parameters for "Lifetime_ap_exposure"   
}

# make printable 
df <- as.data.frame(vals)
df$covariate <- covars 
df <- df[,c(8,2,6,7,1, 4,5)]
names(df) <- c("Covariate", "Estimate", "2.5% quantile", "97.5% quantile", "df", "t-value", "p-value")



# do some rounding
round_sci <- function(x, digits) {
  format(as.numeric(x), scientific = TRUE, digits = digits)
}

rounded_df <- df %>%
  mutate_at(vars('Estimate','2.5% quantile', '97.5% quantile', 'p-value'), list(~ round_sci(., digits = 3))) %>%
  mutate_at(vars('t-value'), list(~ round(., digits=3)))

rounded_df
write_csv(rounded_df, '/Users/laurituominen/Documents/Research/Reettis/neuromaps/tables/stable1_sensitivity analyses.csv')





# Use a Brewer palette and invert it
brewer_palette <- brewer.pal(11, "RdBu")
inverted_brewer_palette <- rev(brewer_palette)

covariates <- dat[covars]
names(covariates) <- c('Total', 'Positive', 'Negative', 'BMI', 'Hosp_days', 'Times', 'GAF', 'SOFAS')
correlation <- cor(covariates, use = "pairwise.complete.obs")

corrplot(correlation, method="ellipse", col = inverted_brewer_palette,  type = 'lower', diag = FALSE)



## create a more comprehensive model by hand picking covariates 
# covs to include: Total score, GAF, BMI, Hospital_days 
model2 <- dat %>% filter(group %in% c('FEP', 'CHR')) %>% 
  lmrob(mean_thickness ~ Lifetime_ap_exposure + Age + Sex + Group +Total_symptoms_score +BMI + Hospital_days +GAF , na.action=na.omit, data=.)


round_sci <- function(x, digits) {
  format(as.numeric(x), scientific = TRUE, digits = digits)
}

df <- summary(model2)

rounded_coeffs <- as.data.frame(df$coefficients) %>%
  mutate_at(vars('Estimate','Std. Error', 'Pr(>|t|)'), list(~ round_sci(., digits = 3)))%>%
  mutate_at(vars('t value'), list(~ round(., digits=2)))

rounded_coeffs
write_csv(rounded_coeffs, '/Users/laurituominen/Documents/Research/Reettis/neuromaps/tables/stable1_sensitivity_analyses_multiple.csv')


# create squared effects 
dat$Age2 <- dat$Age^2
dat$Total_symptoms_score2 <- dat$Total_symptoms_score^2 
dat$BMI2 <- dat$BMI^2
dat$Hospital_days2 <- dat$Hospital_days^2 
dat$GAF2 <- dat$GAF^2

model3 <- dat %>% filter(group %in% c('FEP', 'CHR')) %>% 
  lmrob(mean_thickness ~ Lifetime_ap_exposure + Age +Age2+ Sex + Group +Total_symptoms_score+Total_symptoms_score2 +BMI + BMI2 + Hospital_days + Hospital_days2 +GAF + GAF2 , na.action=na.omit, data=.)


# print and save the coeffs 
df <- summary(model3)

rounded_coeffs <- as.data.frame(df$coefficients) %>%
  mutate_at(vars('Estimate','Std. Error', 'Pr(>|t|)'), list(~ round_sci(., digits = 3)))%>%
  mutate_at(vars('t value'), list(~ round(., digits=2)))

rounded_coeffs
write_csv(rounded_coeffs, '/Users/laurituominen/Documents/Research/Reettis/neuromaps/tables/stable1_sensitivity_analyses_multiple_squared.csv')





variables <- c("mean_thickness", "Lifetime_ap_exposure", "Age","Sex", "Group", "Total_symptoms_score", 
               "Positive_symptoms_score", "Negative_symptoms_score", "BMI", "Hospital_days", "GAF", "SOFAS")
dat2 <- dat[variables]
dat2 <- dat2 %>% filter(Group %in% c('FEP', 'CHR'))
dat2 <- dat2[complete.cases(dat2), ]

# do PCA on the data 
dat_PCA <- dat2[c("Total_symptoms_score", "Positive_symptoms_score", "Negative_symptoms_score", "BMI", "Hospital_days", "GAF", "SOFAS")]
pca_result <- prcomp(dat_PCA, center = TRUE, scale. = TRUE)
plot(pca_result, type = "l", main = "Scree Plot")

# add PCA results to dat2 
PCs <- as.data.frame(pca_result$x)
PCs$ID <- 1:nrow(PCs)
dat2$ID <-   1:nrow(dat2)
dat2 <- merge(dat2, PCs)

summary(pca_result)






model4 <- dat2 %>% 
  lmrob(mean_thickness ~ Lifetime_ap_exposure + Age + Sex + Group + PC1 + PC2 + PC3, na.action=na.omit, data=.)

df <- summary(model4)
rounded_coeffs <- as.data.frame(df$coefficients) %>%
  mutate_at(vars('Estimate','Std. Error', 'Pr(>|t|)'), list(~ round_sci(., digits = 3)))%>%
  mutate_at(vars('t value'), list(~ round(., digits=2)))

rounded_coeffs
write_csv(rounded_coeffs, '/Users/laurituominen/Documents/Research/Reettis/neuromaps/tables/stable1_sensitivity_analyses_PCA.csv')



dat3 <- dat[variables]
dat3 <- dat3 %>% filter(Group %in% c('FEP', 'CHR'))
dat3 <- dat3[complete.cases(dat3), ]

vars_squared <- c( "Age", "Total_symptoms_score", "Positive_symptoms_score", "Negative_symptoms_score", "BMI", "Hospital_days", 
                  "GAF", "SOFAS")


sq <- function(x){ 
    return(x^2)
}

dat3 <- dat3 %>%
    mutate_at(vars_squared, sq)





dat3




