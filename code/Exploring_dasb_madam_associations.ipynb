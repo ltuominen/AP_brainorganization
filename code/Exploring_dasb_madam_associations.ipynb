{
 "cells": [
  {
   "cell_type": "markdown",
   "id": "70a76a3e-3dc8-497e-b928-e403e757f3e8",
   "metadata": {},
   "source": [
    "# correlation between DASB & MADAM"
   ]
  },
  {
   "cell_type": "code",
   "execution_count": 8,
   "id": "0331d957-b2f6-4b6d-ad12-d180a1109c10",
   "metadata": {},
   "outputs": [],
   "source": [
    "import numpy as np\n",
    "import pandas as pd\n",
    "from neuromaps.images import load_data, load_gifti, annot_to_gifti, relabel_gifti, construct_shape_gii\n",
    "from neuromaps.resampling import resample_images\n",
    "from neuromaps.nulls import alexander_bloch, burt2020\n",
    "from neuromaps.parcellate import Parcellater\n",
    "from scipy.stats import pearsonr\n",
    "from neuromaps import transforms \n",
    "from neuromaps.stats import compare_images\n",
    "from neuromaps.nulls import hungarian\n",
    "\n",
    "import warnings \n",
    "warnings.filterwarnings(\"ignore\", category=DeprecationWarning)\n",
    "warnings.filterwarnings(\"ignore\", category=FutureWarning)"
   ]
  },
  {
   "cell_type": "code",
   "execution_count": 9,
   "id": "21b3694a-efb5-4346-ae80-914b4a6fceb1",
   "metadata": {},
   "outputs": [
    {
     "name": "stdout",
     "output_type": "stream",
     "text": [
      "('abagen', 'genepc1', 'fsaverage', '10k')\n",
      "('aghourian2017', 'feobv', 'MNI152', '1mm')\n",
      "('alarkurtti2015', 'raclopride', 'MNI152', '3mm')\n",
      "('bedard2019', 'feobv', 'MNI152', '1mm')\n",
      "('beliveau2017', 'az10419369', 'MNI152', '1mm')\n",
      "('beliveau2017', 'az10419369', 'fsaverage', '164k')\n",
      "('beliveau2017', 'cimbi36', 'MNI152', '1mm')\n",
      "('beliveau2017', 'cimbi36', 'fsaverage', '164k')\n",
      "('beliveau2017', 'cumi101', 'MNI152', '1mm')\n",
      "('beliveau2017', 'cumi101', 'fsaverage', '164k')\n",
      "('beliveau2017', 'dasb', 'MNI152', '1mm')\n",
      "('beliveau2017', 'dasb', 'fsaverage', '164k')\n",
      "('beliveau2017', 'sb207145', 'MNI152', '1mm')\n",
      "('beliveau2017', 'sb207145', 'fsaverage', '164k')\n",
      "('ding2010', 'mrb', 'MNI152', '1mm')\n",
      "('dubois2015', 'abp688', 'MNI152', '1mm')\n",
      "('dukart2018', 'flumazenil', 'MNI152', '3mm')\n",
      "('dukart2018', 'fpcit', 'MNI152', '3mm')\n",
      "('fazio2016', 'madam', 'MNI152', '3mm')\n",
      "('finnema2016', 'ucbj', 'MNI152', '1mm')\n",
      "('gallezot2010', 'p943', 'MNI152', '1mm')\n",
      "('gallezot2017', 'gsk189254', 'MNI152', '1mm')\n",
      "('hcps1200', 'megalpha', 'fsLR', '4k')\n",
      "('hcps1200', 'megbeta', 'fsLR', '4k')\n",
      "('hcps1200', 'megdelta', 'fsLR', '4k')\n",
      "('hcps1200', 'meggamma1', 'fsLR', '4k')\n",
      "('hcps1200', 'meggamma2', 'fsLR', '4k')\n",
      "('hcps1200', 'megtheta', 'fsLR', '4k')\n",
      "('hcps1200', 'megtimescale', 'fsLR', '4k')\n",
      "('hcps1200', 'myelinmap', 'fsLR', '32k')\n",
      "('hcps1200', 'thickness', 'fsLR', '32k')\n",
      "('hesse2017', 'methylreboxetine', 'MNI152', '3mm')\n",
      "('hill2010', 'devexp', 'fsLR', '164k')\n",
      "('hill2010', 'evoexp', 'fsLR', '164k')\n",
      "('hillmer2016', 'flubatine', 'MNI152', '1mm')\n",
      "('jaworska2020', 'fallypride', 'MNI152', '1mm')\n",
      "('kaller2017', 'sch23390', 'MNI152', '3mm')\n",
      "('kantonen2020', 'carfentanil', 'MNI152', '3mm')\n",
      "('laurikainen2018', 'fmpepd2', 'MNI152', '1mm')\n",
      "('margulies2016', 'fcgradient01', 'fsLR', '32k')\n",
      "('margulies2016', 'fcgradient02', 'fsLR', '32k')\n",
      "('margulies2016', 'fcgradient03', 'fsLR', '32k')\n",
      "('margulies2016', 'fcgradient04', 'fsLR', '32k')\n",
      "('margulies2016', 'fcgradient05', 'fsLR', '32k')\n",
      "('margulies2016', 'fcgradient06', 'fsLR', '32k')\n",
      "('margulies2016', 'fcgradient07', 'fsLR', '32k')\n",
      "('margulies2016', 'fcgradient08', 'fsLR', '32k')\n",
      "('margulies2016', 'fcgradient09', 'fsLR', '32k')\n",
      "('margulies2016', 'fcgradient10', 'fsLR', '32k')\n",
      "('mueller2013', 'intersubjvar', 'fsLR', '164k')\n",
      "('naganawa2020', 'lsn3172176', 'MNI152', '1mm')\n",
      "('neurosynth', 'cogpc1', 'MNI152', '2mm')\n",
      "('norgaard2021', 'flumazenil', 'MNI152', '1mm')\n",
      "('norgaard2021', 'flumazenil', 'fsaverage', '164k')\n",
      "('normandin2015', 'omar', 'MNI152', '1mm')\n",
      "('radnakrishnan2018', 'gsk215083', 'MNI152', '1mm')\n",
      "('raichle', 'cbf', 'fsLR', '164k')\n",
      "('raichle', 'cbv', 'fsLR', '164k')\n",
      "('raichle', 'cmr02', 'fsLR', '164k')\n",
      "('raichle', 'cmruglu', 'fsLR', '164k')\n",
      "('reardon2018', 'scalinghcp', 'civet', '41k')\n",
      "('reardon2018', 'scalingnih', 'civet', '41k')\n",
      "('reardon2018', 'scalingpnc', 'civet', '41k')\n",
      "('rosaneto', 'abp688', 'MNI152', '1mm')\n",
      "('sandiego2015', 'flb457', 'MNI152', '1mm')\n",
      "('sasaki2012', 'fepe2i', 'MNI152', '1mm')\n",
      "('satterthwaite2014', 'meancbf', 'MNI152', '1mm')\n",
      "('savli2012', 'altanserin', 'MNI152', '3mm')\n",
      "('savli2012', 'dasb', 'MNI152', '3mm')\n",
      "('savli2012', 'p943', 'MNI152', '3mm')\n",
      "('savli2012', 'way100635', 'MNI152', '3mm')\n",
      "('smart2019', 'abp688', 'MNI152', '1mm')\n",
      "('smith2017', 'flb457', 'MNI152', '1mm')\n",
      "('sydnor2021', 'SAaxis', 'fsLR', '32k')\n",
      "('tuominen', 'feobv', 'MNI152', '2mm')\n",
      "('turtonen2020', 'carfentanil', 'MNI152', '1mm')\n",
      "('xu2020', 'FChomology', 'fsLR', '32k')\n",
      "('xu2020', 'evoexp', 'fsLR', '32k')\n"
     ]
    }
   ],
   "source": [
    "from neuromaps.datasets import available_annotations\n",
    "\n",
    "for annotation in available_annotations():\n",
    "\n",
    "    print(annotation)"
   ]
  },
  {
   "cell_type": "code",
   "execution_count": 10,
   "id": "3bae9c80-072c-4e9b-8623-3913daa79bc6",
   "metadata": {},
   "outputs": [],
   "source": [
    "from neuromaps.images import annot_to_gifti\n",
    "from neuromaps.parcellate import Parcellater\n",
    "\n",
    "# define path\n",
    "path = '/Users/laurituominen/Documents/Research/Reettis/neuromaps/'\n",
    "\n",
    "# load in different parcellation files\n",
    "dk_fsaverage_164k = (path + 'parcellations/atlas-desikankilliany_space-fsaverage_den-164k_hemi-L.aparc-1.annot',\n",
    "                     path + 'parcellations/atlas-desikankilliany_space-fsaverage_den-164k_hemi-R.aparc-1.annot')\n",
    "dk_mni = path + 'parcellations/atlas-desikankilliany_space-MNI_res-1mm.nii.gz'\n",
    "\n",
    "# make sure label IDs are consecutive across hemispheres\n",
    "dk_fsaverage_164k = annot_to_gifti(dk_fsaverage_164k)  # this does relabel_gift and also converts the annot file to gifti\n",
    "\n",
    "# make the parcellaters for each space\n",
    "parcellater_fs164k = Parcellater(dk_fsaverage_164k, 'fsaverage')\n",
    "parcellater_mni = Parcellater(dk_mni, 'MNI152')"
   ]
  },
  {
   "cell_type": "code",
   "execution_count": 16,
   "id": "1465f58f-24cf-46ea-9499-ddefeb6bea97",
   "metadata": {},
   "outputs": [],
   "source": [
    "from neuromaps.datasets import fetch_annotation\n",
    "dasb = fetch_annotation(source='beliveau2017', desc='dasb', space='fsaverage')\n",
    "dasb_mni_v1 = fetch_annotation(source='beliveau2017', desc='dasb', space='MNI152')\n",
    "dasb_mni_v2 = fetch_annotation(source = 'savli2012', desc='dasb')\n",
    "madam = fetch_annotation(source='fazio2016')\n",
    "\n",
    "p934_mni_v1 = fetch_annotation(source='gallezot2010', desc= 'p943')\n",
    "p934_mni_v2 = fetch_annotation(source='savli2012', desc='p943')\n",
    "#cimbi = fetch_annotation(source='beliveau2017', space='fsaverage' , desc = 'cimbi36')"
   ]
  },
  {
   "cell_type": "code",
   "execution_count": 17,
   "id": "17987d42-e21a-49c1-8937-4cea7a14c7ee",
   "metadata": {},
   "outputs": [],
   "source": [
    "dasb_parc = parcellater_fs164k.fit_transform(dasb, space='fsaverage', ignore_background_data=True)\n",
    "dasb_mni_parc_v1 = parcellater_mni.fit_transform(dasb_mni_v1, space='mni152', ignore_background_data=True)\n",
    "dasb_mni_parc_v2 = parcellater_mni.fit_transform(dasb_mni_v2, space='mni152', ignore_background_data=True)\n",
    "madam_parc = parcellater_mni.fit_transform(madam, space='mni152', ignore_background_data=True)\n",
    "\n",
    "p934_parc_v1  = parcellater_mni.fit_transform(p934_mni_v1, space='mni152', ignore_background_data=True)\n",
    "p934_parc_v2  = parcellater_mni.fit_transform(p934_mni_v2, space='mni152', ignore_background_data=True)\n",
    "#cimbi_parc  = parcellater_fs164k.fit_transform(cimbi, space='fsaverage', ignore_background_data=True)\n"
   ]
  },
  {
   "cell_type": "code",
   "execution_count": 18,
   "id": "9db7e5c3-6d4f-42dc-8549-3c168680a79c",
   "metadata": {},
   "outputs": [],
   "source": [
    "rois = pd.read_csv(path+'parcellations/atlas-desikankilliany.csv')\n",
    "rois = rois[(rois['structure'] == 'cortex')].index.to_numpy()\n",
    "\n",
    "madam_parc = madam_parc[0][rois]\n",
    "dasb_mni_parc_v1 = dasb_mni_parc_v1[0][rois]\n",
    "dasb_mni_parc_v2 = dasb_mni_parc_v2[0][rois]\n",
    "\n",
    "p934_parc_v1 = p934_parc_v1[0][rois]\n",
    "p934_parc_v2 = p934_parc_v2[0][rois]"
   ]
  },
  {
   "cell_type": "code",
   "execution_count": 21,
   "id": "be258b79-24a4-4661-b4a9-683260f4e8f8",
   "metadata": {},
   "outputs": [
    {
     "name": "stdout",
     "output_type": "stream",
     "text": [
      "dasb fsaverage x madam: PearsonRResult(statistic=0.7220155170188297, pvalue=3.6999293936513084e-12)\n",
      "dasb mni v1 x madam: PearsonRResult(statistic=0.725639606848971, pvalue=2.5597207729978666e-12)\n",
      "dasb mni v1 x v2: PearsonRResult(statistic=0.9119516990230854, pvalue=3.1174408766046325e-27)\n",
      "dasb fsaverage x dasb mni v1: PearsonRResult(statistic=0.9875371983856311, pvalue=9.897575707491891e-55)\n",
      "dasb fsaverage x dasb mni v2: PearsonRResult(statistic=0.914563941164441, pvalue=1.203744404274862e-27)\n",
      "p934 v p934:  PearsonRResult(statistic=0.8070969109453422, pvalue=9.480319384864097e-17)\n"
     ]
    }
   ],
   "source": [
    "from scipy.stats import pearsonr\n",
    "print('dasb fsaverage x madam:', pearsonr(dasb_parc, madam_parc))\n",
    "print('dasb mni v1 x madam:', pearsonr(dasb_mni_parc_v1, madam_parc))\n",
    "print('dasb mni v1 x v2:', pearsonr(dasb_mni_parc_v1, dasb_mni_parc_v2))\n",
    "\n",
    "print('dasb fsaverage x dasb mni v1:', pearsonr(dasb_parc, dasb_mni_parc_v1))\n",
    "print('dasb fsaverage x dasb mni v2:', pearsonr(dasb_parc, dasb_mni_parc_v2))\n",
    "\n",
    "\n",
    "print('p934 v p934: ', pearsonr(p934_parc_v1, p934_parc_v2)) "
   ]
  },
  {
   "cell_type": "code",
   "execution_count": null,
   "id": "41bbb576-2afa-4cb2-b7ae-00d87b64e6c9",
   "metadata": {},
   "outputs": [],
   "source": []
  }
 ],
 "metadata": {
  "kernelspec": {
   "display_name": "Python 3 (ipykernel)",
   "language": "python",
   "name": "python3"
  },
  "language_info": {
   "codemirror_mode": {
    "name": "ipython",
    "version": 3
   },
   "file_extension": ".py",
   "mimetype": "text/x-python",
   "name": "python",
   "nbconvert_exporter": "python",
   "pygments_lexer": "ipython3",
   "version": "3.10.12"
  }
 },
 "nbformat": 4,
 "nbformat_minor": 5
}
