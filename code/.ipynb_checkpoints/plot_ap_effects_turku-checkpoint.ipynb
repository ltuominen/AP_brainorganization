{
 "cells": [
  {
   "cell_type": "code",
   "execution_count": 1,
   "metadata": {},
   "outputs": [
    {
     "name": "stdout",
     "output_type": "stream",
     "text": [
      "Notebook initialized with x3d backend.\n"
     ]
    }
   ],
   "source": [
    "from surfer import Brain\n",
    "import os \n",
    "from mayavi import mlab\n",
    "mlab.init_notebook()"
   ]
  },
  {
   "cell_type": "code",
   "execution_count": 6,
   "metadata": {},
   "outputs": [],
   "source": [
    "path = '/Users/laurituominen/Documents/Research/Reettis/neuromaps/'\n",
    "\n",
    "for hemi in ['lh', 'rh']:\n",
    "    for v in ['lat', 'med', 'frontal', 'par']:\n",
    "        ov = os.path.join(path, 'data', hemi + '.perm.th13.abs.sig.masked.mgh')\n",
    "        brain = Brain('fsaverage', hemi, 'inflated', views=v, background='white')\n",
    "        brain.add_overlay(ov,min=1.3)\n",
    "        name = path + 'figures/' +  hemi +  '.' + v + '.th13.png'\n",
    "        brain.save_image(name)\n",
    "        brain.close()\n",
    "        \n",
    "        ov = os.path.join(path, 'data', hemi + '.perm.th20.abs.sig.masked.mgh')\n",
    "        brain = Brain('fsaverage', hemi, 'inflated', views=v, background='white')\n",
    "        brain.add_overlay(ov,min=2)\n",
    "        name = path + 'figures/' +  hemi +  '.' + v + '.th20.png'\n",
    "        brain.save_image(name)\n",
    "        brain.close()"
   ]
  }
 ],
 "metadata": {
  "kernelspec": {
   "display_name": "Python 3",
   "language": "python",
   "name": "python3"
  },
  "language_info": {
   "codemirror_mode": {
    "name": "ipython",
    "version": 3
   },
   "file_extension": ".py",
   "mimetype": "text/x-python",
   "name": "python",
   "nbconvert_exporter": "python",
   "pygments_lexer": "ipython3",
   "version": "3.7.6"
  }
 },
 "nbformat": 4,
 "nbformat_minor": 4
}
