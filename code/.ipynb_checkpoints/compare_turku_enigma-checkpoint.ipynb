{
 "cells": [
  {
   "cell_type": "code",
   "execution_count": null,
   "metadata": {},
   "outputs": [],
   "source": [
    "import pandas as pd\n",
    "import numpy as np\n",
    "import nibabel as nib\n",
    "from surfer import Brain\n",
    "import os\n",
    "from mayavi import mlab\n",
    "from matplotlib.cm import get_cmap\n",
    "\n",
    "mlab.init_notebook()"
   ]
  },
  {
   "cell_type": "code",
   "execution_count": null,
   "metadata": {},
   "outputs": [],
   "source": [
    "enigma_data = pd.read_csv('/Users/laurituominen/Documents/Research/Reettis/neuromaps/data/ENIGMA_S32_partial_correlation_between_cortical_thickness_and_chlorpromazine_equivalents.csv')\n",
    "enigma_data = enigma_data[:-2]\n",
    "turku_data = pd.read_csv('/Users/laurituominen/Documents/Research/Reettis/neuromaps/data/turku_partial_r.csv')\n",
    "\n"
   ]
  },
  {
   "cell_type": "code",
   "execution_count": null,
   "metadata": {},
   "outputs": [],
   "source": [
    "lh_aparc_file = os.path.join(os.environ[\"SUBJECTS_DIR\"],\n",
    "                          \"fsaverage\", \"label\",\n",
    "                           \"lh.aparc.annot\")\n",
    "lh_labels, lh_ctab, lh_names = nib.freesurfer.read_annot(lh_aparc_file)\n",
    "lh_names = ['left_' + name.decode(\"utf-8\") for name in lh_names]\n",
    "lh_df = pd.DataFrame({\"roi_names\" :lh_names})\n",
    "\n",
    "lh_names.remove('left_unknown')\n",
    "lh_names.remove('left_corpuscallosum')\n",
    "\n",
    "rh_aparc_file = os.path.join(os.environ[\"SUBJECTS_DIR\"],\n",
    "                          \"fsaverage\", \"label\",\n",
    "                         \"rh.aparc.annot\")\n",
    "rh_labels, rh_ctab, rh_names = nib.freesurfer.read_annot(rh_aparc_file)\n",
    "rh_names = ['right_' + name.decode(\"utf-8\") for name in rh_names]\n",
    "\n",
    "rh_df = pd.DataFrame({\"roi_names\" :rh_names})\n",
    "\n",
    "rh_names.remove('right_unknown')\n",
    "rh_names.remove('right_corpuscallosum')\n",
    "\n",
    "both_names= lh_names + rh_names\n",
    "enigma_data['roi_names'] = both_names\n",
    "turku_data['roi_names'] = both_names\n",
    "\n",
    "lh_enigma_df = lh_df.merge(enigma_data, on='roi_names', how='left')\n",
    "lh_enigma_vals = np.array(lh_enigma_df['partial_r'])\n",
    "lh_enigma_vtx = lh_enigma_vals[lh_labels]\n",
    "lh_enigma_vtx[lh_labels == -1] = -1\n",
    "\n",
    "rh_enigma_df = rh_df.merge(enigma_data, on='roi_names', how='left')\n",
    "rh_enigma_vals = np.array(rh_enigma_df['partial_r'])\n",
    "rh_enigma_vtx = rh_enigma_vals[rh_labels]\n",
    "rh_enigma_vtx[rh_labels == -1] = -1\n",
    "\n",
    "lh_turku_df = lh_df.merge(turku_data, on='roi_names', how='left')\n",
    "lh_turku_vals = np.array(lh_turku_df['partial_r_sample'])\n",
    "lh_turku_vtx = lh_turku_vals[lh_labels]\n",
    "lh_turku_vtx[lh_labels == -1] = -1\n",
    "\n",
    "rh_turku_df = rh_df.merge(turku_data, on='roi_names', how='left')\n",
    "rh_turku_vals = np.array(rh_turku_df['partial_r_sample'])\n",
    "rh_turku_vtx = rh_turku_vals[rh_labels]\n",
    "rh_turku_vtx[rh_labels == -1] = -1"
   ]
  },
  {
   "cell_type": "code",
   "execution_count": null,
   "metadata": {},
   "outputs": [],
   "source": [
    "subject_id = \"fsaverage\"\n",
    "surf = \"inflated\"\n",
    "\n",
    "\"\"\"\n",
    "Bring up the visualization.\n",
    "\"\"\"\n",
    "cmp_r = get_cmap('Blues_r')\n",
    "\n",
    "brain = Brain(subject_id, 'lh', surf, views=['lat', 'med'],cortex = None, background=\"white\")\n",
    "brain.add_data(lh_enigma_vtx,-.4, 0, thresh=-0.4,colormap=cmp_r)\n",
    "brain.add_annotation(\"aparc\", color='black')\n",
    "brain.save_image('left_enigma.jpg')\n",
    "brain.close()\n",
    "\n",
    "brain = Brain(subject_id, 'rh', surf, views=['lat', 'med'], cortex = None, background=\"white\")\n",
    "brain.add_data(rh_enigma_vtx,-.4, 0, thresh=-0.4,colormap=cmp_r)\n",
    "brain.add_annotation(\"aparc\", color='black')\n",
    "brain.save_image('right_enigma.jpg')\n",
    "brain.close()"
   ]
  },
  {
   "cell_type": "code",
   "execution_count": null,
   "metadata": {},
   "outputs": [],
   "source": [
    "\n",
    "subject_id = \"fsaverage\"\n",
    "surf = \"inflated\"\n",
    "\n",
    "\"\"\"\n",
    "Bring up the visualization.\n",
    "\"\"\"\n",
    "from matplotlib.cm import get_cmap\n",
    "cmp_r = get_cmap('Blues_r')\n",
    "\n",
    "brain = Brain(subject_id, 'lh', surf, views=['lat', 'med'], cortex = None, background=\"white\")\n",
    "brain.add_data(lh_turku_vtx,-.4, 0, thresh=-0.4,colormap=cmp_r)\n",
    "brain.add_annotation(\"aparc\", color='black')\n",
    "brain.save_image('left_turku.jpg')\n",
    "brain.close()\n",
    "\n",
    "brain = Brain(subject_id, 'rh', surf, views=['lat', 'med'], cortex = None,  background=\"white\")\n",
    "brain.add_data(rh_turku_vtx,-.4, 0, thresh=-0.4,colormap=cmp_r)\n",
    "brain.add_annotation(\"aparc\", color='black')\n",
    "brain.save_image('right_turku.jpg')\n",
    "brain.close()"
   ]
  }
 ],
 "metadata": {
  "kernelspec": {
   "display_name": "Python 3",
   "language": "python",
   "name": "python3"
  },
  "language_info": {
   "codemirror_mode": {
    "name": "ipython",
    "version": 3
   },
   "file_extension": ".py",
   "mimetype": "text/x-python",
   "name": "python",
   "nbconvert_exporter": "python",
   "pygments_lexer": "ipython3",
   "version": "3.7.6"
  }
 },
 "nbformat": 4,
 "nbformat_minor": 4
}
