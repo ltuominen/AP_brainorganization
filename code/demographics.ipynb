{
 "cells": [
  {
   "cell_type": "code",
   "execution_count": 6,
   "id": "c325e030",
   "metadata": {},
   "outputs": [],
   "source": [
    "library('tidyverse', warn.conflicts = FALSE)\n",
    "library('tableone')"
   ]
  },
  {
   "cell_type": "code",
   "execution_count": 25,
   "id": "467ed42a",
   "metadata": {},
   "outputs": [
    {
     "name": "stderr",
     "output_type": "stream",
     "text": [
      "Warning message in min(x, na.rm = TRUE):\n",
      "“no non-missing arguments to min; returning Inf”\n",
      "Warning message in max(x, na.rm = TRUE):\n",
      "“no non-missing arguments to max; returning -Inf”\n",
      "Warning message in StdDiff(variable = var, group = strataVar):\n",
      "“Variable has only NA's in at least one stratum. na.rm turned off.”\n"
     ]
    }
   ],
   "source": [
    "master <- \"/Users/laurituominen/Documents/Research/Reettis/new_analyses/master/\"\n",
    "dat <- read_csv(paste0(master, 'merged_data.csv'),show_col_types = FALSE)\n",
    "\n",
    "#assign factors \n",
    "dat <- dat %>% filter(Group %in% c('FEP', 'CHR'))\n",
    "dat <-  dat %>% mutate(Sex = factor(Sex, levels = c('M', 'F')),\n",
    "                       Group =factor(Group, levels=c('CHR', 'FEP')))\n",
    "\n",
    "# select variables to show in the table 1\n",
    "tabledat <- dat %>% dplyr::select(Group, Age, Sex, BMI, Lifetime_ap_exposure, ap_medication_scanning_date, Total_symptoms_score, \n",
    "              Positive_symptoms_score, Negative_symptoms_score, GAF, SOFAS, Hospital_days, Times_admitted, DOI)\n",
    "\n",
    "# calculate AP naive & free & mean exposure  \n",
    "tabledat$antipsychotic_naive <- ifelse(tabledat$Lifetime_ap_exposure>0, 'No','Yes' )\n",
    "tabledat$currently_ap_free <- ifelse(tabledat$ap_medication_scanning_date>0, 'No','Yes' )\n",
    "tabledat$Exposure_excl_naive <-  ifelse(tabledat$Lifetime_ap_exposure==0, NA, tabledat$Lifetime_ap_exposure )\n",
    "tabledat$Dose_excl_free <-  ifelse(tabledat$ap_medication_scanning_date==0, NA, tabledat$ap_medication_scanning_date )\n",
    "\n",
    "# display NA for all CHR DOI \n",
    "tabledat$DOI <- ifelse(tabledat$Group == 'CHR', NA, tabledat$DOI)\n",
    "\n",
    "names(tabledat)[5:9] <- c('Lifetime Antipsychotic Exposure', 'Current Antipsychotic Dose', 'Total Symptom Score', 'Positive Symptom Score', 'Negative Symptom Score')\n",
    "\n",
    "vars <- names(tabledat)[2:length(names(tabledat))]\n",
    "vars <- vars[c(1:3, 14:17, 6:13)]\n",
    "tabl1 <- CreateTableOne(data=tabledat,vars=vars, strata = \"Group\",test = FALSE,includeNA = FALSE)\n",
    "tab1mat <- print(tabl1, quote = FALSE, noSpaces = TRUE,  printToggle = FALSE)\n",
    "rownames(tab1mat) <- gsub(\" (mean (SD))\", \"\", rownames(tab1mat), fixed = TRUE)\n",
    "tab1mat <- gsub(\"NaN (NA)\", \"-\", tab1mat, fixed=TRUE)"
   ]
  },
  {
   "cell_type": "code",
   "execution_count": 26,
   "id": "1ae0a0f7",
   "metadata": {},
   "outputs": [
    {
     "data": {
      "text/html": [
       "<table class=\"dataframe\">\n",
       "<caption>A matrix: 16 × 2 of type chr</caption>\n",
       "<thead>\n",
       "\t<tr><th></th><th scope=col>CHR</th><th scope=col>FEP</th></tr>\n",
       "</thead>\n",
       "<tbody>\n",
       "\t<tr><th scope=row>n</th><td>49                 </td><td>82                 </td></tr>\n",
       "\t<tr><th scope=row>Age</th><td>25.75 (6.09)       </td><td>26.76 (5.98)       </td></tr>\n",
       "\t<tr><th scope=row>Sex = F (%)</th><td>21 (42.9)          </td><td>35 (42.7)          </td></tr>\n",
       "\t<tr><th scope=row>BMI</th><td>24.76 (5.52)       </td><td>25.11 (5.07)       </td></tr>\n",
       "\t<tr><th scope=row>antipsychotic_naive = Yes (%)</th><td>22 (44.9)          </td><td>4 (4.9)            </td></tr>\n",
       "\t<tr><th scope=row>currently_ap_free = Yes (%)</th><td>32 (65.3)          </td><td>8 (9.8)            </td></tr>\n",
       "\t<tr><th scope=row>Exposure_excl_naive</th><td>14034.03 (23828.17)</td><td>22286.16 (25375.03)</td></tr>\n",
       "\t<tr><th scope=row>Dose_excl_free</th><td>167.06 (129.33)    </td><td>321.84 (233.09)    </td></tr>\n",
       "\t<tr><th scope=row>Total Symptom Score</th><td>35.55 (10.09)      </td><td>38.04 (12.29)      </td></tr>\n",
       "\t<tr><th scope=row>Positive Symptom Score</th><td>13.11 (4.04)       </td><td>16.85 (6.33)       </td></tr>\n",
       "\t<tr><th scope=row>Negative Symptom Score</th><td>9.19 (3.37)        </td><td>9.41 (3.73)        </td></tr>\n",
       "\t<tr><th scope=row>GAF</th><td>53.80 (11.38)      </td><td>51.38 (14.99)      </td></tr>\n",
       "\t<tr><th scope=row>SOFAS</th><td>53.37 (11.66)      </td><td>48.59 (15.12)      </td></tr>\n",
       "\t<tr><th scope=row>Hospital_days</th><td>18.56 (30.52)      </td><td>44.24 (48.15)      </td></tr>\n",
       "\t<tr><th scope=row>Times_admitted</th><td>0.62 (0.70)        </td><td>1.07 (0.75)        </td></tr>\n",
       "\t<tr><th scope=row>DOI</th><td>-                  </td><td>1.37 (2.59)        </td></tr>\n",
       "</tbody>\n",
       "</table>\n"
      ],
      "text/latex": [
       "A matrix: 16 × 2 of type chr\n",
       "\\begin{tabular}{r|ll}\n",
       "  & CHR & FEP\\\\\n",
       "\\hline\n",
       "\tn & 49                  & 82                 \\\\\n",
       "\tAge & 25.75 (6.09)        & 26.76 (5.98)       \\\\\n",
       "\tSex = F (\\%) & 21 (42.9)           & 35 (42.7)          \\\\\n",
       "\tBMI & 24.76 (5.52)        & 25.11 (5.07)       \\\\\n",
       "\tantipsychotic\\_naive = Yes (\\%) & 22 (44.9)           & 4 (4.9)            \\\\\n",
       "\tcurrently\\_ap\\_free = Yes (\\%) & 32 (65.3)           & 8 (9.8)            \\\\\n",
       "\tExposure\\_excl\\_naive & 14034.03 (23828.17) & 22286.16 (25375.03)\\\\\n",
       "\tDose\\_excl\\_free & 167.06 (129.33)     & 321.84 (233.09)    \\\\\n",
       "\tTotal Symptom Score & 35.55 (10.09)       & 38.04 (12.29)      \\\\\n",
       "\tPositive Symptom Score & 13.11 (4.04)        & 16.85 (6.33)       \\\\\n",
       "\tNegative Symptom Score & 9.19 (3.37)         & 9.41 (3.73)        \\\\\n",
       "\tGAF & 53.80 (11.38)       & 51.38 (14.99)      \\\\\n",
       "\tSOFAS & 53.37 (11.66)       & 48.59 (15.12)      \\\\\n",
       "\tHospital\\_days & 18.56 (30.52)       & 44.24 (48.15)      \\\\\n",
       "\tTimes\\_admitted & 0.62 (0.70)         & 1.07 (0.75)        \\\\\n",
       "\tDOI & -                   & 1.37 (2.59)        \\\\\n",
       "\\end{tabular}\n"
      ],
      "text/markdown": [
       "\n",
       "A matrix: 16 × 2 of type chr\n",
       "\n",
       "| <!--/--> | CHR | FEP |\n",
       "|---|---|---|\n",
       "| n | 49                  | 82                  |\n",
       "| Age | 25.75 (6.09)        | 26.76 (5.98)        |\n",
       "| Sex = F (%) | 21 (42.9)           | 35 (42.7)           |\n",
       "| BMI | 24.76 (5.52)        | 25.11 (5.07)        |\n",
       "| antipsychotic_naive = Yes (%) | 22 (44.9)           | 4 (4.9)             |\n",
       "| currently_ap_free = Yes (%) | 32 (65.3)           | 8 (9.8)             |\n",
       "| Exposure_excl_naive | 14034.03 (23828.17) | 22286.16 (25375.03) |\n",
       "| Dose_excl_free | 167.06 (129.33)     | 321.84 (233.09)     |\n",
       "| Total Symptom Score | 35.55 (10.09)       | 38.04 (12.29)       |\n",
       "| Positive Symptom Score | 13.11 (4.04)        | 16.85 (6.33)        |\n",
       "| Negative Symptom Score | 9.19 (3.37)         | 9.41 (3.73)         |\n",
       "| GAF | 53.80 (11.38)       | 51.38 (14.99)       |\n",
       "| SOFAS | 53.37 (11.66)       | 48.59 (15.12)       |\n",
       "| Hospital_days | 18.56 (30.52)       | 44.24 (48.15)       |\n",
       "| Times_admitted | 0.62 (0.70)         | 1.07 (0.75)         |\n",
       "| DOI | -                   | 1.37 (2.59)         |\n",
       "\n"
      ],
      "text/plain": [
       "                               Stratified by Group\n",
       "                                CHR                 FEP                \n",
       "  n                             49                  82                 \n",
       "  Age                           25.75 (6.09)        26.76 (5.98)       \n",
       "  Sex = F (%)                   21 (42.9)           35 (42.7)          \n",
       "  BMI                           24.76 (5.52)        25.11 (5.07)       \n",
       "  antipsychotic_naive = Yes (%) 22 (44.9)           4 (4.9)            \n",
       "  currently_ap_free = Yes (%)   32 (65.3)           8 (9.8)            \n",
       "  Exposure_excl_naive           14034.03 (23828.17) 22286.16 (25375.03)\n",
       "  Dose_excl_free                167.06 (129.33)     321.84 (233.09)    \n",
       "  Total Symptom Score           35.55 (10.09)       38.04 (12.29)      \n",
       "  Positive Symptom Score        13.11 (4.04)        16.85 (6.33)       \n",
       "  Negative Symptom Score        9.19 (3.37)         9.41 (3.73)        \n",
       "  GAF                           53.80 (11.38)       51.38 (14.99)      \n",
       "  SOFAS                         53.37 (11.66)       48.59 (15.12)      \n",
       "  Hospital_days                 18.56 (30.52)       44.24 (48.15)      \n",
       "  Times_admitted                0.62 (0.70)         1.07 (0.75)        \n",
       "  DOI                           -                   1.37 (2.59)        "
      ]
     },
     "metadata": {},
     "output_type": "display_data"
    }
   ],
   "source": [
    "tab1mat"
   ]
  },
  {
   "cell_type": "code",
   "execution_count": null,
   "id": "c8077929",
   "metadata": {},
   "outputs": [],
   "source": []
  }
 ],
 "metadata": {
  "kernelspec": {
   "display_name": "R",
   "language": "R",
   "name": "ir"
  },
  "language_info": {
   "codemirror_mode": "r",
   "file_extension": ".r",
   "mimetype": "text/x-r-source",
   "name": "R",
   "pygments_lexer": "r",
   "version": "4.2.3"
  }
 },
 "nbformat": 4,
 "nbformat_minor": 5
}
