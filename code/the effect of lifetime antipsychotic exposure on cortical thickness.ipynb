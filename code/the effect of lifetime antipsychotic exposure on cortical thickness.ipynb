{
 "cells": [
  {
   "cell_type": "code",
   "execution_count": 82,
   "id": "33799e0b",
   "metadata": {
    "vscode": {
     "languageId": "r"
    }
   },
   "outputs": [],
   "source": [
    "library('tidyverse')\n",
    "library('robustbase')\n",
    "library('corrplot')\n",
    "library('RColorBrewer')"
   ]
  },
  {
   "cell_type": "code",
   "execution_count": 126,
   "id": "f8321c25",
   "metadata": {
    "vscode": {
     "languageId": "r"
    }
   },
   "outputs": [
    {
     "data": {
      "text/plain": [
       "\n",
       "Call:\n",
       "lmrob(formula = mean_thickness ~ Lifetime_ap_exposure + Age + Sex + Group, \n",
       "    data = ., na.action = na.omit)\n",
       " \\--> method = \"MM\"\n",
       "Residuals:\n",
       "      Min        1Q    Median        3Q       Max \n",
       "-0.193423 -0.060353 -0.002418  0.060400  0.197570 \n",
       "\n",
       "Coefficients:\n",
       "                       Estimate Std. Error t value Pr(>|t|)    \n",
       "(Intercept)           2.636e+00  3.093e-02  85.218  < 2e-16 ***\n",
       "Lifetime_ap_exposure -1.128e-06  2.720e-07  -4.145 6.19e-05 ***\n",
       "Age                  -2.814e-03  1.070e-03  -2.630   0.0096 ** \n",
       "SexF                 -3.191e-02  1.444e-02  -2.211   0.0289 *  \n",
       "GroupFEP             -1.975e-02  1.527e-02  -1.294   0.1982    \n",
       "---\n",
       "Signif. codes:  0 ‘***’ 0.001 ‘**’ 0.01 ‘*’ 0.05 ‘.’ 0.1 ‘ ’ 1\n",
       "\n",
       "Robust residual standard error: 0.08595 \n",
       "Multiple R-squared:  0.183,\tAdjusted R-squared:  0.1571 \n",
       "Convergence in 9 IRWLS iterations\n",
       "\n",
       "Robustness weights: \n",
       " 15 weights are ~= 1. The remaining 116 ones are summarized as\n",
       "   Min. 1st Qu.  Median    Mean 3rd Qu.    Max. \n",
       " 0.5765  0.8926  0.9498  0.9185  0.9806  0.9987 \n",
       "Algorithmic parameters: \n",
       "       tuning.chi                bb        tuning.psi        refine.tol \n",
       "        1.548e+00         5.000e-01         4.685e+00         1.000e-07 \n",
       "          rel.tol         scale.tol         solve.tol          zero.tol \n",
       "        1.000e-07         1.000e-10         1.000e-07         1.000e-10 \n",
       "      eps.outlier             eps.x warn.limit.reject warn.limit.meanrw \n",
       "        7.634e-04         2.496e-07         5.000e-01         5.000e-01 \n",
       "     nResample         max.it       best.r.s       k.fast.s          k.max \n",
       "           500             50              2              1            200 \n",
       "   maxit.scale      trace.lev            mts     compute.rd fast.s.large.n \n",
       "           200              0           1000              0           2000 \n",
       "                  psi           subsampling                   cov \n",
       "           \"bisquare\"         \"nonsingular\"         \".vcov.avar1\" \n",
       "compute.outlier.stats \n",
       "                 \"SM\" \n",
       "seed : int(0) "
      ]
     },
     "metadata": {},
     "output_type": "display_data"
    }
   ],
   "source": [
    "master <- \"/Users/laurituominen/Documents/Research/Reettis/old_new_analyses/master/\"\n",
    "dat <- read_csv(paste0(master, 'merged_data.csv'),show_col_types = FALSE)\n",
    "\n",
    "dat <- dat %>% mutate(Sex = factor(Sex, levels = c('M', 'F')),\n",
    "                      group =factor(Group, levels=c('CTR', 'CHR', 'FEP')))\n",
    "\n",
    "# exposure vs cortical thickness \n",
    "model <- dat %>% filter(group %in% c('FEP', 'CHR')) %>% \n",
    "  lmrob(mean_thickness ~ Lifetime_ap_exposure + Age + Sex + Group, na.action=na.omit, data=.)\n",
    "\n",
    "model %>% summary()"
   ]
  },
  {
   "cell_type": "code",
   "execution_count": 127,
   "id": "0984a033-1231-4630-9681-f1f3497b3067",
   "metadata": {
    "vscode": {
     "languageId": "r"
    }
   },
   "outputs": [
    {
     "data": {
      "text/html": [
       "<table class=\"dataframe\">\n",
       "<caption>A matrix: 5 × 2 of type dbl</caption>\n",
       "<thead>\n",
       "\t<tr><th></th><th scope=col>2.5 %</th><th scope=col>97.5 %</th></tr>\n",
       "</thead>\n",
       "<tbody>\n",
       "\t<tr><th scope=row>(Intercept)</th><td> 2.574810e+00</td><td> 2.697239e+00</td></tr>\n",
       "\t<tr><th scope=row>Lifetime_ap_exposure</th><td>-1.665802e-06</td><td>-5.892332e-07</td></tr>\n",
       "\t<tr><th scope=row>Age</th><td>-4.931425e-03</td><td>-6.968154e-04</td></tr>\n",
       "\t<tr><th scope=row>SexF</th><td>-6.047924e-02</td><td>-3.345109e-03</td></tr>\n",
       "\t<tr><th scope=row>GroupFEP</th><td>-4.995567e-02</td><td> 1.046238e-02</td></tr>\n",
       "</tbody>\n",
       "</table>\n"
      ],
      "text/latex": [
       "A matrix: 5 × 2 of type dbl\n",
       "\\begin{tabular}{r|ll}\n",
       "  & 2.5 \\% & 97.5 \\%\\\\\n",
       "\\hline\n",
       "\t(Intercept) &  2.574810e+00 &  2.697239e+00\\\\\n",
       "\tLifetime\\_ap\\_exposure & -1.665802e-06 & -5.892332e-07\\\\\n",
       "\tAge & -4.931425e-03 & -6.968154e-04\\\\\n",
       "\tSexF & -6.047924e-02 & -3.345109e-03\\\\\n",
       "\tGroupFEP & -4.995567e-02 &  1.046238e-02\\\\\n",
       "\\end{tabular}\n"
      ],
      "text/markdown": [
       "\n",
       "A matrix: 5 × 2 of type dbl\n",
       "\n",
       "| <!--/--> | 2.5 % | 97.5 % |\n",
       "|---|---|---|\n",
       "| (Intercept) |  2.574810e+00 |  2.697239e+00 |\n",
       "| Lifetime_ap_exposure | -1.665802e-06 | -5.892332e-07 |\n",
       "| Age | -4.931425e-03 | -6.968154e-04 |\n",
       "| SexF | -6.047924e-02 | -3.345109e-03 |\n",
       "| GroupFEP | -4.995567e-02 |  1.046238e-02 |\n",
       "\n"
      ],
      "text/plain": [
       "                     2.5 %         97.5 %       \n",
       "(Intercept)           2.574810e+00  2.697239e+00\n",
       "Lifetime_ap_exposure -1.665802e-06 -5.892332e-07\n",
       "Age                  -4.931425e-03 -6.968154e-04\n",
       "SexF                 -6.047924e-02 -3.345109e-03\n",
       "GroupFEP             -4.995567e-02  1.046238e-02"
      ]
     },
     "metadata": {},
     "output_type": "display_data"
    },
    {
     "name": "stdout",
     "output_type": "stream",
     "text": [
      "[1] \"residuals: 126\"\n"
     ]
    }
   ],
   "source": [
    "model %>% confint()\n",
    "\n",
    "print(paste('residuals:', model$df.residual))"
   ]
  },
  {
   "cell_type": "code",
   "execution_count": 128,
   "id": "01ff0bed",
   "metadata": {
    "vscode": {
     "languageId": "r"
    }
   },
   "outputs": [],
   "source": [
    "# covariates in sensitivity analyses \n",
    "covars <- c(\"Total_symptoms_score\", \"Positive_symptoms_score\", \"Negative_symptoms_score\", \"BMI\", \"Hospital_days\", \"Times_admitted\",\n",
    "            \"GAF\", \"SOFAS\")\n",
    "\n",
    "# estimate the effects including one of the sensitivity covariates in the model at the time \n",
    "vals <- matrix(nrow=length(covars), ncol=7 )\n",
    "for (i in seq(from=1,to=length(covars))){\n",
    "  formula <- reformulate(termlabels =  c(\"Lifetime_ap_exposure\",\"Age\",\"Sex\",\"Group\", covars[i]), response = 'mean_thickness')\n",
    "  m <- dat %>% filter(group %in% c('FEP', 'CHR')) %>%\n",
    "    lmrob(formula = formula, data=.)\n",
    "  vals[i,]<- c(m$df.residual, as.vector(summary(m)$coefficients[2,]), as.vector(confint(m)[2,])) # get parameters for \"Lifetime_ap_exposure\"   \n",
    "}\n",
    "\n",
    "# make printable \n",
    "df <- as.data.frame(vals)\n",
    "df$covariate <- covars \n",
    "df <- df[,c(8,2,6,7,1, 4,5)]\n",
    "names(df) <- c(\"Covariate\", \"Estimate\", \"2.5% quantile\", \"97.5% quantile\", \"df\", \"t-value\", \"p-value\")\n"
   ]
  },
  {
   "cell_type": "code",
   "execution_count": 129,
   "id": "1bc99e9e-9374-478a-9131-ef3f64948ed3",
   "metadata": {
    "vscode": {
     "languageId": "r"
    }
   },
   "outputs": [
    {
     "data": {
      "text/html": [
       "<table class=\"dataframe\">\n",
       "<caption>A data.frame: 8 × 7</caption>\n",
       "<thead>\n",
       "\t<tr><th scope=col>Covariate</th><th scope=col>Estimate</th><th scope=col>2.5% quantile</th><th scope=col>97.5% quantile</th><th scope=col>df</th><th scope=col>t-value</th><th scope=col>p-value</th></tr>\n",
       "\t<tr><th scope=col>&lt;chr&gt;</th><th scope=col>&lt;chr&gt;</th><th scope=col>&lt;chr&gt;</th><th scope=col>&lt;chr&gt;</th><th scope=col>&lt;dbl&gt;</th><th scope=col>&lt;dbl&gt;</th><th scope=col>&lt;chr&gt;</th></tr>\n",
       "</thead>\n",
       "<tbody>\n",
       "\t<tr><td>Total_symptoms_score   </td><td>-1.20e-06</td><td>-1.69e-06</td><td>-6.99e-07</td><td>120</td><td>-4.766</td><td>5.33e-06</td></tr>\n",
       "\t<tr><td>Positive_symptoms_score</td><td>-1.20e-06</td><td>-1.72e-06</td><td>-6.84e-07</td><td>120</td><td>-4.598</td><td>1.06e-05</td></tr>\n",
       "\t<tr><td>Negative_symptoms_score</td><td>-1.21e-06</td><td>-1.70e-06</td><td>-7.15e-07</td><td>120</td><td>-4.856</td><td>3.64e-06</td></tr>\n",
       "\t<tr><td>BMI                    </td><td>-1.09e-06</td><td>-1.59e-06</td><td>-5.87e-07</td><td>125</td><td>-4.295</td><td>3.47e-05</td></tr>\n",
       "\t<tr><td>Hospital_days          </td><td>-1.04e-06</td><td>-1.66e-06</td><td>-4.18e-07</td><td>124</td><td>-3.309</td><td>1.23e-03</td></tr>\n",
       "\t<tr><td>Times_admitted         </td><td>-1.05e-06</td><td>-1.61e-06</td><td>-4.91e-07</td><td>124</td><td>-3.717</td><td>3.04e-04</td></tr>\n",
       "\t<tr><td>GAF                    </td><td>-1.16e-06</td><td>-1.72e-06</td><td>-6.04e-07</td><td>125</td><td>-4.119</td><td>6.87e-05</td></tr>\n",
       "\t<tr><td>SOFAS                  </td><td>-1.16e-06</td><td>-1.71e-06</td><td>-6.14e-07</td><td>125</td><td>-4.186</td><td>5.32e-05</td></tr>\n",
       "</tbody>\n",
       "</table>\n"
      ],
      "text/latex": [
       "A data.frame: 8 × 7\n",
       "\\begin{tabular}{lllllll}\n",
       " Covariate & Estimate & 2.5\\% quantile & 97.5\\% quantile & df & t-value & p-value\\\\\n",
       " <chr> & <chr> & <chr> & <chr> & <dbl> & <dbl> & <chr>\\\\\n",
       "\\hline\n",
       "\t Total\\_symptoms\\_score    & -1.20e-06 & -1.69e-06 & -6.99e-07 & 120 & -4.766 & 5.33e-06\\\\\n",
       "\t Positive\\_symptoms\\_score & -1.20e-06 & -1.72e-06 & -6.84e-07 & 120 & -4.598 & 1.06e-05\\\\\n",
       "\t Negative\\_symptoms\\_score & -1.21e-06 & -1.70e-06 & -7.15e-07 & 120 & -4.856 & 3.64e-06\\\\\n",
       "\t BMI                     & -1.09e-06 & -1.59e-06 & -5.87e-07 & 125 & -4.295 & 3.47e-05\\\\\n",
       "\t Hospital\\_days           & -1.04e-06 & -1.66e-06 & -4.18e-07 & 124 & -3.309 & 1.23e-03\\\\\n",
       "\t Times\\_admitted          & -1.05e-06 & -1.61e-06 & -4.91e-07 & 124 & -3.717 & 3.04e-04\\\\\n",
       "\t GAF                     & -1.16e-06 & -1.72e-06 & -6.04e-07 & 125 & -4.119 & 6.87e-05\\\\\n",
       "\t SOFAS                   & -1.16e-06 & -1.71e-06 & -6.14e-07 & 125 & -4.186 & 5.32e-05\\\\\n",
       "\\end{tabular}\n"
      ],
      "text/markdown": [
       "\n",
       "A data.frame: 8 × 7\n",
       "\n",
       "| Covariate &lt;chr&gt; | Estimate &lt;chr&gt; | 2.5% quantile &lt;chr&gt; | 97.5% quantile &lt;chr&gt; | df &lt;dbl&gt; | t-value &lt;dbl&gt; | p-value &lt;chr&gt; |\n",
       "|---|---|---|---|---|---|---|\n",
       "| Total_symptoms_score    | -1.20e-06 | -1.69e-06 | -6.99e-07 | 120 | -4.766 | 5.33e-06 |\n",
       "| Positive_symptoms_score | -1.20e-06 | -1.72e-06 | -6.84e-07 | 120 | -4.598 | 1.06e-05 |\n",
       "| Negative_symptoms_score | -1.21e-06 | -1.70e-06 | -7.15e-07 | 120 | -4.856 | 3.64e-06 |\n",
       "| BMI                     | -1.09e-06 | -1.59e-06 | -5.87e-07 | 125 | -4.295 | 3.47e-05 |\n",
       "| Hospital_days           | -1.04e-06 | -1.66e-06 | -4.18e-07 | 124 | -3.309 | 1.23e-03 |\n",
       "| Times_admitted          | -1.05e-06 | -1.61e-06 | -4.91e-07 | 124 | -3.717 | 3.04e-04 |\n",
       "| GAF                     | -1.16e-06 | -1.72e-06 | -6.04e-07 | 125 | -4.119 | 6.87e-05 |\n",
       "| SOFAS                   | -1.16e-06 | -1.71e-06 | -6.14e-07 | 125 | -4.186 | 5.32e-05 |\n",
       "\n"
      ],
      "text/plain": [
       "  Covariate               Estimate  2.5% quantile 97.5% quantile df  t-value\n",
       "1 Total_symptoms_score    -1.20e-06 -1.69e-06     -6.99e-07      120 -4.766 \n",
       "2 Positive_symptoms_score -1.20e-06 -1.72e-06     -6.84e-07      120 -4.598 \n",
       "3 Negative_symptoms_score -1.21e-06 -1.70e-06     -7.15e-07      120 -4.856 \n",
       "4 BMI                     -1.09e-06 -1.59e-06     -5.87e-07      125 -4.295 \n",
       "5 Hospital_days           -1.04e-06 -1.66e-06     -4.18e-07      124 -3.309 \n",
       "6 Times_admitted          -1.05e-06 -1.61e-06     -4.91e-07      124 -3.717 \n",
       "7 GAF                     -1.16e-06 -1.72e-06     -6.04e-07      125 -4.119 \n",
       "8 SOFAS                   -1.16e-06 -1.71e-06     -6.14e-07      125 -4.186 \n",
       "  p-value \n",
       "1 5.33e-06\n",
       "2 1.06e-05\n",
       "3 3.64e-06\n",
       "4 3.47e-05\n",
       "5 1.23e-03\n",
       "6 3.04e-04\n",
       "7 6.87e-05\n",
       "8 5.32e-05"
      ]
     },
     "metadata": {},
     "output_type": "display_data"
    }
   ],
   "source": [
    "# do some rounding\n",
    "round_sci <- function(x, digits) {\n",
    "  format(as.numeric(x), scientific = TRUE, digits = digits)\n",
    "}\n",
    "\n",
    "rounded_df <- df %>%\n",
    "  mutate_at(vars('Estimate','2.5% quantile', '97.5% quantile', 'p-value'), list(~ round_sci(., digits = 3))) %>%\n",
    "  mutate_at(vars('t-value'), list(~ round(., digits=3)))\n",
    "\n",
    "rounded_df\n",
    "write_csv(rounded_df, '/Users/laurituominen/Documents/Research/Reettis/neuromaps/tables/stable1_sensitivity analyses.csv')"
   ]
  },
  {
   "cell_type": "markdown",
   "id": "f83bba89-cdea-48ac-badd-3d32106d9e8f",
   "metadata": {},
   "source": [
    "## plot correlations between confounders "
   ]
  },
  {
   "cell_type": "code",
   "execution_count": 130,
   "id": "153fea01-ca24-44ff-abb3-75e4c4947dba",
   "metadata": {
    "vscode": {
     "languageId": "r"
    }
   },
   "outputs": [
    {
     "data": {
      "text/html": [
       "<strong>pdf:</strong> 2"
      ],
      "text/latex": [
       "\\textbf{pdf:} 2"
      ],
      "text/markdown": [
       "**pdf:** 2"
      ],
      "text/plain": [
       "pdf \n",
       "  2 "
      ]
     },
     "metadata": {},
     "output_type": "display_data"
    }
   ],
   "source": [
    "# Use a Brewer palette and invert it\n",
    "brewer_palette <- brewer.pal(11, \"RdBu\")\n",
    "inverted_brewer_palette <- rev(brewer_palette)\n",
    "\n",
    "covariates <- dat[covars]\n",
    "names(covariates) <- c('Total', 'Positive', 'Negative', 'BMI', 'Hosp days', 'Times admitted', 'GAF', 'SOFAS')\n",
    "correlation <- cor(covariates, use = \"pairwise.complete.obs\")\n",
    "png('/Users/laurituominen/Documents/Research/Reettis/neuromaps/figures/Correlations_between_confounders_in_Turku_sample.png',width = 5, units = 'in', height=5, res = 300)\n",
    "\n",
    "corrplot(correlation, method=\"ellipse\", col = inverted_brewer_palette,  type = 'lower', diag = FALSE)\n",
    "# make plot\n",
    "dev.off()"
   ]
  },
  {
   "cell_type": "code",
   "execution_count": 131,
   "id": "16c4bea9-fa6b-4c50-af2b-c9956818aa63",
   "metadata": {},
   "outputs": [],
   "source": [
    "## create a more comprehensive model by hand picking covariates \n",
    "# covs to include: Total score, GAF, BMI, Hospital_days \n",
    "model2 <- dat %>% filter(group %in% c('FEP', 'CHR')) %>% \n",
    "  lmrob(mean_thickness ~ Lifetime_ap_exposure + Age + Sex + Group +Total_symptoms_score +BMI + Hospital_days +GAF , na.action=na.omit, data=.)"
   ]
  },
  {
   "cell_type": "code",
   "execution_count": 132,
   "id": "06976de3-5e21-4028-a3bd-2d9c8b14f918",
   "metadata": {},
   "outputs": [
    {
     "data": {
      "text/html": [
       "<table class=\"dataframe\">\n",
       "<caption>A data.frame: 9 × 5</caption>\n",
       "<thead>\n",
       "\t<tr><th></th><th scope=col>predictors</th><th scope=col>Estimate</th><th scope=col>Std. Error</th><th scope=col>t value</th><th scope=col>Pr(&gt;|t|)</th></tr>\n",
       "\t<tr><th></th><th scope=col>&lt;chr&gt;</th><th scope=col>&lt;chr&gt;</th><th scope=col>&lt;chr&gt;</th><th scope=col>&lt;dbl&gt;</th><th scope=col>&lt;chr&gt;</th></tr>\n",
       "</thead>\n",
       "<tbody>\n",
       "\t<tr><th scope=row>(Intercept)</th><td>(Intercept)         </td><td> 2.65e+00</td><td>6.78e-02</td><td>39.09</td><td>1.27e-68</td></tr>\n",
       "\t<tr><th scope=row>Lifetime_ap_exposure</th><td>Lifetime_ap_exposure</td><td>-1.10e-06</td><td>2.88e-07</td><td>-3.80</td><td>2.32e-04</td></tr>\n",
       "\t<tr><th scope=row>Age</th><td>Age                 </td><td>-2.97e-03</td><td>1.02e-03</td><td>-2.90</td><td>4.42e-03</td></tr>\n",
       "\t<tr><th scope=row>SexF</th><td>SexF                </td><td>-3.35e-02</td><td>1.45e-02</td><td>-2.31</td><td>2.29e-02</td></tr>\n",
       "\t<tr><th scope=row>GroupFEP</th><td>GroupFEP            </td><td>-1.87e-02</td><td>1.51e-02</td><td>-1.24</td><td>2.18e-01</td></tr>\n",
       "\t<tr><th scope=row>Total_symptoms_score</th><td>Total_symptoms_score</td><td> 7.66e-04</td><td>6.79e-04</td><td> 1.13</td><td>2.61e-01</td></tr>\n",
       "\t<tr><th scope=row>BMI</th><td>BMI                 </td><td>-2.10e-03</td><td>1.14e-03</td><td>-1.85</td><td>6.71e-02</td></tr>\n",
       "\t<tr><th scope=row>Hospital_days</th><td>Hospital_days       </td><td>-1.97e-04</td><td>1.59e-04</td><td>-1.24</td><td>2.17e-01</td></tr>\n",
       "\t<tr><th scope=row>GAF</th><td>GAF                 </td><td> 4.39e-04</td><td>6.78e-04</td><td> 0.65</td><td>5.19e-01</td></tr>\n",
       "</tbody>\n",
       "</table>\n"
      ],
      "text/latex": [
       "A data.frame: 9 × 5\n",
       "\\begin{tabular}{r|lllll}\n",
       "  & predictors & Estimate & Std. Error & t value & Pr(>\\textbar{}t\\textbar{})\\\\\n",
       "  & <chr> & <chr> & <chr> & <dbl> & <chr>\\\\\n",
       "\\hline\n",
       "\t(Intercept) & (Intercept)          &  2.65e+00 & 6.78e-02 & 39.09 & 1.27e-68\\\\\n",
       "\tLifetime\\_ap\\_exposure & Lifetime\\_ap\\_exposure & -1.10e-06 & 2.88e-07 & -3.80 & 2.32e-04\\\\\n",
       "\tAge & Age                  & -2.97e-03 & 1.02e-03 & -2.90 & 4.42e-03\\\\\n",
       "\tSexF & SexF                 & -3.35e-02 & 1.45e-02 & -2.31 & 2.29e-02\\\\\n",
       "\tGroupFEP & GroupFEP             & -1.87e-02 & 1.51e-02 & -1.24 & 2.18e-01\\\\\n",
       "\tTotal\\_symptoms\\_score & Total\\_symptoms\\_score &  7.66e-04 & 6.79e-04 &  1.13 & 2.61e-01\\\\\n",
       "\tBMI & BMI                  & -2.10e-03 & 1.14e-03 & -1.85 & 6.71e-02\\\\\n",
       "\tHospital\\_days & Hospital\\_days        & -1.97e-04 & 1.59e-04 & -1.24 & 2.17e-01\\\\\n",
       "\tGAF & GAF                  &  4.39e-04 & 6.78e-04 &  0.65 & 5.19e-01\\\\\n",
       "\\end{tabular}\n"
      ],
      "text/markdown": [
       "\n",
       "A data.frame: 9 × 5\n",
       "\n",
       "| <!--/--> | predictors &lt;chr&gt; | Estimate &lt;chr&gt; | Std. Error &lt;chr&gt; | t value &lt;dbl&gt; | Pr(&gt;|t|) &lt;chr&gt; |\n",
       "|---|---|---|---|---|---|\n",
       "| (Intercept) | (Intercept)          |  2.65e+00 | 6.78e-02 | 39.09 | 1.27e-68 |\n",
       "| Lifetime_ap_exposure | Lifetime_ap_exposure | -1.10e-06 | 2.88e-07 | -3.80 | 2.32e-04 |\n",
       "| Age | Age                  | -2.97e-03 | 1.02e-03 | -2.90 | 4.42e-03 |\n",
       "| SexF | SexF                 | -3.35e-02 | 1.45e-02 | -2.31 | 2.29e-02 |\n",
       "| GroupFEP | GroupFEP             | -1.87e-02 | 1.51e-02 | -1.24 | 2.18e-01 |\n",
       "| Total_symptoms_score | Total_symptoms_score |  7.66e-04 | 6.79e-04 |  1.13 | 2.61e-01 |\n",
       "| BMI | BMI                  | -2.10e-03 | 1.14e-03 | -1.85 | 6.71e-02 |\n",
       "| Hospital_days | Hospital_days        | -1.97e-04 | 1.59e-04 | -1.24 | 2.17e-01 |\n",
       "| GAF | GAF                  |  4.39e-04 | 6.78e-04 |  0.65 | 5.19e-01 |\n",
       "\n"
      ],
      "text/plain": [
       "                     predictors           Estimate  Std. Error t value Pr(>|t|)\n",
       "(Intercept)          (Intercept)           2.65e+00 6.78e-02   39.09   1.27e-68\n",
       "Lifetime_ap_exposure Lifetime_ap_exposure -1.10e-06 2.88e-07   -3.80   2.32e-04\n",
       "Age                  Age                  -2.97e-03 1.02e-03   -2.90   4.42e-03\n",
       "SexF                 SexF                 -3.35e-02 1.45e-02   -2.31   2.29e-02\n",
       "GroupFEP             GroupFEP             -1.87e-02 1.51e-02   -1.24   2.18e-01\n",
       "Total_symptoms_score Total_symptoms_score  7.66e-04 6.79e-04    1.13   2.61e-01\n",
       "BMI                  BMI                  -2.10e-03 1.14e-03   -1.85   6.71e-02\n",
       "Hospital_days        Hospital_days        -1.97e-04 1.59e-04   -1.24   2.17e-01\n",
       "GAF                  GAF                   4.39e-04 6.78e-04    0.65   5.19e-01"
      ]
     },
     "metadata": {},
     "output_type": "display_data"
    }
   ],
   "source": [
    "round_sci <- function(x, digits) {\n",
    "  format(as.numeric(x), scientific = TRUE, digits = digits)\n",
    "}\n",
    "\n",
    "df <- summary(model2)\n",
    "\n",
    "rounded_coeffs <- as.data.frame(df$coefficients) %>%\n",
    "  mutate_at(vars('Estimate','Std. Error', 'Pr(>|t|)'), list(~ round_sci(., digits = 3)))%>%\n",
    "  mutate_at(vars('t value'), list(~ round(., digits=2)))\n",
    "\n",
    "rounded_coeffs['predictors'] = rownames(rounded_coeffs)\n",
    "rounded_coeffs <- rounded_coeffs %>% relocate('predictors')\n",
    "rounded_coeffs\n",
    "\n",
    "write_csv(rounded_coeffs, '/Users/laurituominen/Documents/Research/Reettis/neuromaps/tables/stable1_sensitivity_analyses_multiple.csv',  col_names = TRUE)\n",
    "\n"
   ]
  },
  {
   "cell_type": "code",
   "execution_count": 133,
   "id": "c262b204-962e-43db-87f3-969dbeac4ba2",
   "metadata": {},
   "outputs": [],
   "source": [
    "# create squared effects \n",
    "dat$Age2 <- dat$Age^2\n",
    "dat$Total_symptoms_score2 <- dat$Total_symptoms_score^2 \n",
    "dat$BMI2 <- dat$BMI^2\n",
    "dat$Hospital_days2 <- dat$Hospital_days^2 \n",
    "dat$GAF2 <- dat$GAF^2\n",
    "dat$Negative_symptoms_score2 <- dat$Negative_symptoms_score^2\n",
    "dat$Positive_symptoms_score2 <- dat$Positive_symptoms_score^2\n",
    "dat$SOFAS2 <- dat$SOFAS^2\n",
    "\n",
    "model3 <- dat %>% filter(group %in% c('FEP', 'CHR')) %>% \n",
    "  lmrob(mean_thickness ~ Lifetime_ap_exposure + Age +Age2+ Sex + Group +Total_symptoms_score+Total_symptoms_score2 +BMI + BMI2 + Hospital_days + Hospital_days2 +GAF + GAF2 , na.action=na.omit, data=.)"
   ]
  },
  {
   "cell_type": "code",
   "execution_count": 134,
   "id": "9d1862c6-6c8f-475b-9d76-ac2e20b47fff",
   "metadata": {},
   "outputs": [
    {
     "data": {
      "text/html": [
       "<table class=\"dataframe\">\n",
       "<caption>A data.frame: 14 × 5</caption>\n",
       "<thead>\n",
       "\t<tr><th></th><th scope=col>predictors</th><th scope=col>Estimate</th><th scope=col>Std. Error</th><th scope=col>t value</th><th scope=col>Pr(&gt;|t|)</th></tr>\n",
       "\t<tr><th></th><th scope=col>&lt;chr&gt;</th><th scope=col>&lt;chr&gt;</th><th scope=col>&lt;chr&gt;</th><th scope=col>&lt;dbl&gt;</th><th scope=col>&lt;chr&gt;</th></tr>\n",
       "</thead>\n",
       "<tbody>\n",
       "\t<tr><th scope=row>(Intercept)</th><td>(Intercept)          </td><td> 2.68e+00</td><td>2.05e-01</td><td>13.11</td><td>2.69e-24</td></tr>\n",
       "\t<tr><th scope=row>Lifetime_ap_exposure</th><td>Lifetime_ap_exposure </td><td>-9.28e-07</td><td>2.92e-07</td><td>-3.17</td><td>1.94e-03</td></tr>\n",
       "\t<tr><th scope=row>Age</th><td>Age                  </td><td>-1.79e-02</td><td>9.31e-03</td><td>-1.92</td><td>5.78e-02</td></tr>\n",
       "\t<tr><th scope=row>Age2</th><td>Age2                 </td><td> 2.47e-04</td><td>1.52e-04</td><td> 1.63</td><td>1.06e-01</td></tr>\n",
       "\t<tr><th scope=row>SexF</th><td>SexF                 </td><td>-2.52e-02</td><td>1.55e-02</td><td>-1.63</td><td>1.06e-01</td></tr>\n",
       "\t<tr><th scope=row>GroupFEP</th><td>GroupFEP             </td><td>-1.16e-02</td><td>1.58e-02</td><td>-0.73</td><td>4.65e-01</td></tr>\n",
       "\t<tr><th scope=row>Total_symptoms_score</th><td>Total_symptoms_score </td><td>-2.64e-03</td><td>4.13e-03</td><td>-0.64</td><td>5.24e-01</td></tr>\n",
       "\t<tr><th scope=row>Total_symptoms_score2</th><td>Total_symptoms_score2</td><td> 4.05e-05</td><td>5.13e-05</td><td> 0.79</td><td>4.31e-01</td></tr>\n",
       "\t<tr><th scope=row>BMI</th><td>BMI                  </td><td> 8.24e-03</td><td>8.24e-03</td><td> 1.00</td><td>3.19e-01</td></tr>\n",
       "\t<tr><th scope=row>BMI2</th><td>BMI2                 </td><td>-1.78e-04</td><td>1.35e-04</td><td>-1.31</td><td>1.92e-01</td></tr>\n",
       "\t<tr><th scope=row>Hospital_days</th><td>Hospital_days        </td><td>-7.43e-04</td><td>4.73e-04</td><td>-1.57</td><td>1.19e-01</td></tr>\n",
       "\t<tr><th scope=row>Hospital_days2</th><td>Hospital_days2       </td><td> 2.74e-06</td><td>2.06e-06</td><td> 1.33</td><td>1.85e-01</td></tr>\n",
       "\t<tr><th scope=row>GAF</th><td>GAF                  </td><td> 4.51e-03</td><td>3.11e-03</td><td> 1.45</td><td>1.49e-01</td></tr>\n",
       "\t<tr><th scope=row>GAF2</th><td>GAF2                 </td><td>-3.88e-05</td><td>2.79e-05</td><td>-1.39</td><td>1.68e-01</td></tr>\n",
       "</tbody>\n",
       "</table>\n"
      ],
      "text/latex": [
       "A data.frame: 14 × 5\n",
       "\\begin{tabular}{r|lllll}\n",
       "  & predictors & Estimate & Std. Error & t value & Pr(>\\textbar{}t\\textbar{})\\\\\n",
       "  & <chr> & <chr> & <chr> & <dbl> & <chr>\\\\\n",
       "\\hline\n",
       "\t(Intercept) & (Intercept)           &  2.68e+00 & 2.05e-01 & 13.11 & 2.69e-24\\\\\n",
       "\tLifetime\\_ap\\_exposure & Lifetime\\_ap\\_exposure  & -9.28e-07 & 2.92e-07 & -3.17 & 1.94e-03\\\\\n",
       "\tAge & Age                   & -1.79e-02 & 9.31e-03 & -1.92 & 5.78e-02\\\\\n",
       "\tAge2 & Age2                  &  2.47e-04 & 1.52e-04 &  1.63 & 1.06e-01\\\\\n",
       "\tSexF & SexF                  & -2.52e-02 & 1.55e-02 & -1.63 & 1.06e-01\\\\\n",
       "\tGroupFEP & GroupFEP              & -1.16e-02 & 1.58e-02 & -0.73 & 4.65e-01\\\\\n",
       "\tTotal\\_symptoms\\_score & Total\\_symptoms\\_score  & -2.64e-03 & 4.13e-03 & -0.64 & 5.24e-01\\\\\n",
       "\tTotal\\_symptoms\\_score2 & Total\\_symptoms\\_score2 &  4.05e-05 & 5.13e-05 &  0.79 & 4.31e-01\\\\\n",
       "\tBMI & BMI                   &  8.24e-03 & 8.24e-03 &  1.00 & 3.19e-01\\\\\n",
       "\tBMI2 & BMI2                  & -1.78e-04 & 1.35e-04 & -1.31 & 1.92e-01\\\\\n",
       "\tHospital\\_days & Hospital\\_days         & -7.43e-04 & 4.73e-04 & -1.57 & 1.19e-01\\\\\n",
       "\tHospital\\_days2 & Hospital\\_days2        &  2.74e-06 & 2.06e-06 &  1.33 & 1.85e-01\\\\\n",
       "\tGAF & GAF                   &  4.51e-03 & 3.11e-03 &  1.45 & 1.49e-01\\\\\n",
       "\tGAF2 & GAF2                  & -3.88e-05 & 2.79e-05 & -1.39 & 1.68e-01\\\\\n",
       "\\end{tabular}\n"
      ],
      "text/markdown": [
       "\n",
       "A data.frame: 14 × 5\n",
       "\n",
       "| <!--/--> | predictors &lt;chr&gt; | Estimate &lt;chr&gt; | Std. Error &lt;chr&gt; | t value &lt;dbl&gt; | Pr(&gt;|t|) &lt;chr&gt; |\n",
       "|---|---|---|---|---|---|\n",
       "| (Intercept) | (Intercept)           |  2.68e+00 | 2.05e-01 | 13.11 | 2.69e-24 |\n",
       "| Lifetime_ap_exposure | Lifetime_ap_exposure  | -9.28e-07 | 2.92e-07 | -3.17 | 1.94e-03 |\n",
       "| Age | Age                   | -1.79e-02 | 9.31e-03 | -1.92 | 5.78e-02 |\n",
       "| Age2 | Age2                  |  2.47e-04 | 1.52e-04 |  1.63 | 1.06e-01 |\n",
       "| SexF | SexF                  | -2.52e-02 | 1.55e-02 | -1.63 | 1.06e-01 |\n",
       "| GroupFEP | GroupFEP              | -1.16e-02 | 1.58e-02 | -0.73 | 4.65e-01 |\n",
       "| Total_symptoms_score | Total_symptoms_score  | -2.64e-03 | 4.13e-03 | -0.64 | 5.24e-01 |\n",
       "| Total_symptoms_score2 | Total_symptoms_score2 |  4.05e-05 | 5.13e-05 |  0.79 | 4.31e-01 |\n",
       "| BMI | BMI                   |  8.24e-03 | 8.24e-03 |  1.00 | 3.19e-01 |\n",
       "| BMI2 | BMI2                  | -1.78e-04 | 1.35e-04 | -1.31 | 1.92e-01 |\n",
       "| Hospital_days | Hospital_days         | -7.43e-04 | 4.73e-04 | -1.57 | 1.19e-01 |\n",
       "| Hospital_days2 | Hospital_days2        |  2.74e-06 | 2.06e-06 |  1.33 | 1.85e-01 |\n",
       "| GAF | GAF                   |  4.51e-03 | 3.11e-03 |  1.45 | 1.49e-01 |\n",
       "| GAF2 | GAF2                  | -3.88e-05 | 2.79e-05 | -1.39 | 1.68e-01 |\n",
       "\n"
      ],
      "text/plain": [
       "                      predictors            Estimate  Std. Error t value\n",
       "(Intercept)           (Intercept)            2.68e+00 2.05e-01   13.11  \n",
       "Lifetime_ap_exposure  Lifetime_ap_exposure  -9.28e-07 2.92e-07   -3.17  \n",
       "Age                   Age                   -1.79e-02 9.31e-03   -1.92  \n",
       "Age2                  Age2                   2.47e-04 1.52e-04    1.63  \n",
       "SexF                  SexF                  -2.52e-02 1.55e-02   -1.63  \n",
       "GroupFEP              GroupFEP              -1.16e-02 1.58e-02   -0.73  \n",
       "Total_symptoms_score  Total_symptoms_score  -2.64e-03 4.13e-03   -0.64  \n",
       "Total_symptoms_score2 Total_symptoms_score2  4.05e-05 5.13e-05    0.79  \n",
       "BMI                   BMI                    8.24e-03 8.24e-03    1.00  \n",
       "BMI2                  BMI2                  -1.78e-04 1.35e-04   -1.31  \n",
       "Hospital_days         Hospital_days         -7.43e-04 4.73e-04   -1.57  \n",
       "Hospital_days2        Hospital_days2         2.74e-06 2.06e-06    1.33  \n",
       "GAF                   GAF                    4.51e-03 3.11e-03    1.45  \n",
       "GAF2                  GAF2                  -3.88e-05 2.79e-05   -1.39  \n",
       "                      Pr(>|t|)\n",
       "(Intercept)           2.69e-24\n",
       "Lifetime_ap_exposure  1.94e-03\n",
       "Age                   5.78e-02\n",
       "Age2                  1.06e-01\n",
       "SexF                  1.06e-01\n",
       "GroupFEP              4.65e-01\n",
       "Total_symptoms_score  5.24e-01\n",
       "Total_symptoms_score2 4.31e-01\n",
       "BMI                   3.19e-01\n",
       "BMI2                  1.92e-01\n",
       "Hospital_days         1.19e-01\n",
       "Hospital_days2        1.85e-01\n",
       "GAF                   1.49e-01\n",
       "GAF2                  1.68e-01"
      ]
     },
     "metadata": {},
     "output_type": "display_data"
    }
   ],
   "source": [
    "# print and save the coeffs \n",
    "df <- summary(model3)\n",
    "\n",
    "rounded_coeffs <- as.data.frame(df$coefficients) %>%\n",
    "  mutate_at(vars('Estimate','Std. Error', 'Pr(>|t|)'), list(~ round_sci(., digits = 3)))%>%\n",
    "  mutate_at(vars('t value'), list(~ round(., digits=2)))\n",
    "\n",
    "rounded_coeffs['predictors'] = rownames(rounded_coeffs)\n",
    "rounded_coeffs <- rounded_coeffs %>% relocate('predictors')\n",
    "rounded_coeffs\n",
    "\n",
    "write_csv(rounded_coeffs, '/Users/laurituominen/Documents/Research/Reettis/neuromaps/tables/stable1_sensitivity_analyses_multiple_squared.csv')"
   ]
  },
  {
   "cell_type": "markdown",
   "id": "7cf6eb81-bbbe-4498-993e-67d440643117",
   "metadata": {},
   "source": [
    "## PCA of the covariates and a scree plot"
   ]
  },
  {
   "cell_type": "code",
   "execution_count": 139,
   "id": "dbe96b79-6a81-4377-a864-30cdc8482f78",
   "metadata": {},
   "outputs": [
    {
     "data": {
      "text/html": [
       "<strong>pdf:</strong> 2"
      ],
      "text/latex": [
       "\\textbf{pdf:} 2"
      ],
      "text/markdown": [
       "**pdf:** 2"
      ],
      "text/plain": [
       "pdf \n",
       "  2 "
      ]
     },
     "metadata": {},
     "output_type": "display_data"
    },
    {
     "data": {
      "text/plain": [
       "Importance of components:\n",
       "                          PC1    PC2    PC3    PC4     PC5     PC6     PC7\n",
       "Standard deviation     2.5772 1.4772 1.4353 1.2840 0.97600 0.44527 0.37615\n",
       "Proportion of Variance 0.4744 0.1559 0.1472 0.1178 0.06804 0.01416 0.01011\n",
       "Cumulative Proportion  0.4744 0.6303 0.7775 0.8952 0.96327 0.97743 0.98753\n",
       "                           PC8     PC9   PC10    PC11    PC12    PC13    PC14\n",
       "Standard deviation     0.27541 0.22188 0.1449 0.10642 0.09887 0.07123 0.04764\n",
       "Proportion of Variance 0.00542 0.00352 0.0015 0.00081 0.00070 0.00036 0.00016\n",
       "Cumulative Proportion  0.99295 0.99647 0.9980 0.99878 0.99948 0.99984 1.00000"
      ]
     },
     "metadata": {},
     "output_type": "display_data"
    }
   ],
   "source": [
    "variables <- c(\"mean_thickness\", \"Lifetime_ap_exposure\", \"Age\", \"Age2\", \"Sex\", \"Group\", \"Total_symptoms_score\", \"Total_symptoms_score2\",\n",
    "               \"Positive_symptoms_score\",\"Positive_symptoms_score2\", \"Negative_symptoms_score\",\"Negative_symptoms_score2\", \"BMI\",\"BMI2\",\n",
    "               \"Hospital_days\",\"Hospital_days2\", \"GAF\",\"GAF2\", \"SOFAS\",\"SOFAS2\")\n",
    "\n",
    "dat2 <- dat[variables]\n",
    "dat2 <- dat2 %>% filter(Group %in% c('FEP', 'CHR'))\n",
    "dat2 <- dat2[complete.cases(dat2), ]\n",
    "\n",
    "# do PCA on the data \n",
    "dat_PCA <- dat2[c(\"Total_symptoms_score\", \"Total_symptoms_score2\",\n",
    "               \"Positive_symptoms_score\",\"Positive_symptoms_score2\", \"Negative_symptoms_score\",\"Negative_symptoms_score2\", \n",
    "                  \"BMI\",\"BMI2\", \"Hospital_days\",\"Hospital_days2\", \"GAF\",\"GAF2\", \"SOFAS\",\"SOFAS2\")]\n",
    "pca_result <- prcomp(dat_PCA, center = TRUE, scale. = TRUE)\n",
    "\n",
    "png('/Users/laurituominen/Documents/Research/Reettis/neuromaps/figures/Screeplot_PCA_confounders_in_Turku_sample.png',width = 5, units = 'in', height=5, res = 300)\n",
    "\n",
    "plot(pca_result, type = \"l\", main = \"Scree Plot\")\n",
    "\n",
    "# make plot\n",
    "dev.off()\n",
    "\n",
    "# add PCA results to dat2 \n",
    "PCs <- as.data.frame(pca_result$x)\n",
    "PCs$ID <- 1:nrow(PCs)\n",
    "dat2$ID <-   1:nrow(dat2)\n",
    "dat2 <- merge(dat2, PCs)\n",
    "\n",
    "summary(pca_result)\n",
    "\n"
   ]
  },
  {
   "cell_type": "markdown",
   "id": "eaad2a07-d066-4c6a-b018-47ac778b2fba",
   "metadata": {},
   "source": [
    "## Use first 4 PCs as covariates "
   ]
  },
  {
   "cell_type": "code",
   "execution_count": 140,
   "id": "62814556-40c5-4a3f-97f5-f720958d315e",
   "metadata": {},
   "outputs": [
    {
     "data": {
      "text/html": [
       "<table class=\"dataframe\">\n",
       "<caption>A data.frame: 9 × 5</caption>\n",
       "<thead>\n",
       "\t<tr><th></th><th scope=col>predictors</th><th scope=col>Estimate</th><th scope=col>Std. Error</th><th scope=col>t value</th><th scope=col>Pr(&gt;|t|)</th></tr>\n",
       "\t<tr><th></th><th scope=col>&lt;chr&gt;</th><th scope=col>&lt;chr&gt;</th><th scope=col>&lt;chr&gt;</th><th scope=col>&lt;dbl&gt;</th><th scope=col>&lt;chr&gt;</th></tr>\n",
       "</thead>\n",
       "<tbody>\n",
       "\t<tr><th scope=row>(Intercept)</th><td>(Intercept)         </td><td> 2.65e+00</td><td>3.03e-02</td><td>87.35</td><td>1.11e-107</td></tr>\n",
       "\t<tr><th scope=row>Lifetime_ap_exposure</th><td>Lifetime_ap_exposure</td><td>-1.14e-06</td><td>2.72e-07</td><td>-4.20</td><td> 5.18e-05</td></tr>\n",
       "\t<tr><th scope=row>Age</th><td>Age                 </td><td>-2.95e-03</td><td>1.03e-03</td><td>-2.86</td><td> 5.09e-03</td></tr>\n",
       "\t<tr><th scope=row>SexF</th><td>SexF                </td><td>-3.48e-02</td><td>1.46e-02</td><td>-2.39</td><td> 1.83e-02</td></tr>\n",
       "\t<tr><th scope=row>GroupFEP</th><td>GroupFEP            </td><td>-2.15e-02</td><td>1.51e-02</td><td>-1.43</td><td> 1.57e-01</td></tr>\n",
       "\t<tr><th scope=row>PC1</th><td>PC1                 </td><td>-3.49e-04</td><td>2.54e-03</td><td>-0.14</td><td> 8.91e-01</td></tr>\n",
       "\t<tr><th scope=row>PC2</th><td>PC2                 </td><td> 9.24e-03</td><td>4.03e-03</td><td> 2.30</td><td> 2.34e-02</td></tr>\n",
       "\t<tr><th scope=row>PC3</th><td>PC3                 </td><td>-7.05e-04</td><td>4.02e-03</td><td>-0.18</td><td> 8.61e-01</td></tr>\n",
       "\t<tr><th scope=row>PC4</th><td>PC4                 </td><td>-4.36e-03</td><td>5.68e-03</td><td>-0.77</td><td> 4.44e-01</td></tr>\n",
       "</tbody>\n",
       "</table>\n"
      ],
      "text/latex": [
       "A data.frame: 9 × 5\n",
       "\\begin{tabular}{r|lllll}\n",
       "  & predictors & Estimate & Std. Error & t value & Pr(>\\textbar{}t\\textbar{})\\\\\n",
       "  & <chr> & <chr> & <chr> & <dbl> & <chr>\\\\\n",
       "\\hline\n",
       "\t(Intercept) & (Intercept)          &  2.65e+00 & 3.03e-02 & 87.35 & 1.11e-107\\\\\n",
       "\tLifetime\\_ap\\_exposure & Lifetime\\_ap\\_exposure & -1.14e-06 & 2.72e-07 & -4.20 &  5.18e-05\\\\\n",
       "\tAge & Age                  & -2.95e-03 & 1.03e-03 & -2.86 &  5.09e-03\\\\\n",
       "\tSexF & SexF                 & -3.48e-02 & 1.46e-02 & -2.39 &  1.83e-02\\\\\n",
       "\tGroupFEP & GroupFEP             & -2.15e-02 & 1.51e-02 & -1.43 &  1.57e-01\\\\\n",
       "\tPC1 & PC1                  & -3.49e-04 & 2.54e-03 & -0.14 &  8.91e-01\\\\\n",
       "\tPC2 & PC2                  &  9.24e-03 & 4.03e-03 &  2.30 &  2.34e-02\\\\\n",
       "\tPC3 & PC3                  & -7.05e-04 & 4.02e-03 & -0.18 &  8.61e-01\\\\\n",
       "\tPC4 & PC4                  & -4.36e-03 & 5.68e-03 & -0.77 &  4.44e-01\\\\\n",
       "\\end{tabular}\n"
      ],
      "text/markdown": [
       "\n",
       "A data.frame: 9 × 5\n",
       "\n",
       "| <!--/--> | predictors &lt;chr&gt; | Estimate &lt;chr&gt; | Std. Error &lt;chr&gt; | t value &lt;dbl&gt; | Pr(&gt;|t|) &lt;chr&gt; |\n",
       "|---|---|---|---|---|---|\n",
       "| (Intercept) | (Intercept)          |  2.65e+00 | 3.03e-02 | 87.35 | 1.11e-107 |\n",
       "| Lifetime_ap_exposure | Lifetime_ap_exposure | -1.14e-06 | 2.72e-07 | -4.20 |  5.18e-05 |\n",
       "| Age | Age                  | -2.95e-03 | 1.03e-03 | -2.86 |  5.09e-03 |\n",
       "| SexF | SexF                 | -3.48e-02 | 1.46e-02 | -2.39 |  1.83e-02 |\n",
       "| GroupFEP | GroupFEP             | -2.15e-02 | 1.51e-02 | -1.43 |  1.57e-01 |\n",
       "| PC1 | PC1                  | -3.49e-04 | 2.54e-03 | -0.14 |  8.91e-01 |\n",
       "| PC2 | PC2                  |  9.24e-03 | 4.03e-03 |  2.30 |  2.34e-02 |\n",
       "| PC3 | PC3                  | -7.05e-04 | 4.02e-03 | -0.18 |  8.61e-01 |\n",
       "| PC4 | PC4                  | -4.36e-03 | 5.68e-03 | -0.77 |  4.44e-01 |\n",
       "\n"
      ],
      "text/plain": [
       "                     predictors           Estimate  Std. Error t value\n",
       "(Intercept)          (Intercept)           2.65e+00 3.03e-02   87.35  \n",
       "Lifetime_ap_exposure Lifetime_ap_exposure -1.14e-06 2.72e-07   -4.20  \n",
       "Age                  Age                  -2.95e-03 1.03e-03   -2.86  \n",
       "SexF                 SexF                 -3.48e-02 1.46e-02   -2.39  \n",
       "GroupFEP             GroupFEP             -2.15e-02 1.51e-02   -1.43  \n",
       "PC1                  PC1                  -3.49e-04 2.54e-03   -0.14  \n",
       "PC2                  PC2                   9.24e-03 4.03e-03    2.30  \n",
       "PC3                  PC3                  -7.05e-04 4.02e-03   -0.18  \n",
       "PC4                  PC4                  -4.36e-03 5.68e-03   -0.77  \n",
       "                     Pr(>|t|) \n",
       "(Intercept)          1.11e-107\n",
       "Lifetime_ap_exposure  5.18e-05\n",
       "Age                   5.09e-03\n",
       "SexF                  1.83e-02\n",
       "GroupFEP              1.57e-01\n",
       "PC1                   8.91e-01\n",
       "PC2                   2.34e-02\n",
       "PC3                   8.61e-01\n",
       "PC4                   4.44e-01"
      ]
     },
     "metadata": {},
     "output_type": "display_data"
    }
   ],
   "source": [
    "\n",
    "model4 <- dat2 %>% \n",
    "  lmrob(mean_thickness ~ Lifetime_ap_exposure + Age + Sex + Group + PC1 + PC2 + PC3 + PC4, na.action=na.omit, data=.)\n",
    "\n",
    "df <- summary(model4)\n",
    "rounded_coeffs <- as.data.frame(df$coefficients) %>%\n",
    "  mutate_at(vars('Estimate','Std. Error', 'Pr(>|t|)'), list(~ round_sci(., digits = 3)))%>%\n",
    "  mutate_at(vars('t value'), list(~ round(., digits=2)))\n",
    "\n",
    "rounded_coeffs['predictors'] = rownames(rounded_coeffs)\n",
    "rounded_coeffs <- rounded_coeffs %>% relocate('predictors')\n",
    "rounded_coeffs\n",
    "\n",
    "write_csv(rounded_coeffs, '/Users/laurituominen/Documents/Research/Reettis/neuromaps/tables/stable1_sensitivity_analyses_PCA.csv')"
   ]
  }
 ],
 "metadata": {
  "kernelspec": {
   "display_name": "R",
   "language": "R",
   "name": "ir"
  },
  "language_info": {
   "codemirror_mode": "r",
   "file_extension": ".r",
   "mimetype": "text/x-r-source",
   "name": "R",
   "pygments_lexer": "r",
   "version": "4.2.2"
  }
 },
 "nbformat": 4,
 "nbformat_minor": 5
}
