{
 "cells": [
  {
   "cell_type": "code",
   "execution_count": 1,
   "id": "33799e0b",
   "metadata": {},
   "outputs": [
    {
     "name": "stderr",
     "output_type": "stream",
     "text": [
      "── \u001b[1mAttaching core tidyverse packages\u001b[22m ────────────────────────────────────────────────── tidyverse 2.0.0 ──\n",
      "\u001b[32m✔\u001b[39m \u001b[34mdplyr    \u001b[39m 1.1.1     \u001b[32m✔\u001b[39m \u001b[34mreadr    \u001b[39m 2.1.4\n",
      "\u001b[32m✔\u001b[39m \u001b[34mforcats  \u001b[39m 1.0.0     \u001b[32m✔\u001b[39m \u001b[34mstringr  \u001b[39m 1.5.0\n",
      "\u001b[32m✔\u001b[39m \u001b[34mggplot2  \u001b[39m 3.4.2     \u001b[32m✔\u001b[39m \u001b[34mtibble   \u001b[39m 3.2.1\n",
      "\u001b[32m✔\u001b[39m \u001b[34mlubridate\u001b[39m 1.9.2     \u001b[32m✔\u001b[39m \u001b[34mtidyr    \u001b[39m 1.3.0\n",
      "\u001b[32m✔\u001b[39m \u001b[34mpurrr    \u001b[39m 1.0.1     \n",
      "── \u001b[1mConflicts\u001b[22m ──────────────────────────────────────────────────────────────────── tidyverse_conflicts() ──\n",
      "\u001b[31m✖\u001b[39m \u001b[34mdplyr\u001b[39m::\u001b[32mfilter()\u001b[39m masks \u001b[34mstats\u001b[39m::filter()\n",
      "\u001b[31m✖\u001b[39m \u001b[34mdplyr\u001b[39m::\u001b[32mlag()\u001b[39m    masks \u001b[34mstats\u001b[39m::lag()\n",
      "\u001b[36mℹ\u001b[39m Use the conflicted package (\u001b[3m\u001b[34m<http://conflicted.r-lib.org/>\u001b[39m\u001b[23m) to force all conflicts to become errors\n"
     ]
    }
   ],
   "source": [
    "library('tidyverse', warn.conflicts = FALSE)\n",
    "library('robustbase')\n"
   ]
  },
  {
   "cell_type": "code",
   "execution_count": 12,
   "id": "f8321c25",
   "metadata": {},
   "outputs": [
    {
     "data": {
      "text/plain": [
       "\n",
       "Call:\n",
       "lmrob(formula = mean_thickness ~ Lifetime_ap_exposure + Age + Sex + Group, \n",
       "    data = ., na.action = na.omit)\n",
       " \\--> method = \"MM\"\n",
       "Residuals:\n",
       "      Min        1Q    Median        3Q       Max \n",
       "-0.193423 -0.060353 -0.002418  0.060400  0.197570 \n",
       "\n",
       "Coefficients:\n",
       "                       Estimate Std. Error t value Pr(>|t|)    \n",
       "(Intercept)           2.636e+00  3.093e-02  85.221  < 2e-16 ***\n",
       "Lifetime_ap_exposure -1.128e-06  2.711e-07  -4.159 5.88e-05 ***\n",
       "Age                  -2.814e-03  1.070e-03  -2.630   0.0096 ** \n",
       "SexF                 -3.191e-02  1.449e-02  -2.202   0.0295 *  \n",
       "GroupFEP             -1.975e-02  1.528e-02  -1.293   0.1985    \n",
       "---\n",
       "Signif. codes:  0 ‘***’ 0.001 ‘**’ 0.01 ‘*’ 0.05 ‘.’ 0.1 ‘ ’ 1\n",
       "\n",
       "Robust residual standard error: 0.08595 \n",
       "Multiple R-squared:  0.183,\tAdjusted R-squared:  0.1571 \n",
       "Convergence in 9 IRWLS iterations\n",
       "\n",
       "Robustness weights: \n",
       " 15 weights are ~= 1. The remaining 116 ones are summarized as\n",
       "   Min. 1st Qu.  Median    Mean 3rd Qu.    Max. \n",
       " 0.5765  0.8926  0.9498  0.9185  0.9806  0.9987 \n",
       "Algorithmic parameters: \n",
       "       tuning.chi                bb        tuning.psi        refine.tol \n",
       "        1.548e+00         5.000e-01         4.685e+00         1.000e-07 \n",
       "          rel.tol         scale.tol         solve.tol       eps.outlier \n",
       "        1.000e-07         1.000e-10         1.000e-07         7.634e-04 \n",
       "            eps.x warn.limit.reject warn.limit.meanrw \n",
       "        2.496e-07         5.000e-01         5.000e-01 \n",
       "     nResample         max.it       best.r.s       k.fast.s          k.max \n",
       "           500             50              2              1            200 \n",
       "   maxit.scale      trace.lev            mts     compute.rd fast.s.large.n \n",
       "           200              0           1000              0           2000 \n",
       "                  psi           subsampling                   cov \n",
       "           \"bisquare\"         \"nonsingular\"         \".vcov.avar1\" \n",
       "compute.outlier.stats \n",
       "                 \"SM\" \n",
       "seed : int(0) "
      ]
     },
     "metadata": {},
     "output_type": "display_data"
    }
   ],
   "source": [
    "master <- \"/Users/laurituominen/Documents/Research/Reettis/old_new_analyses/master/\"\n",
    "dat <- read_csv(paste0(master, 'merged_data.csv'),show_col_types = FALSE)\n",
    "\n",
    "dat <- dat %>% mutate(Sex = factor(Sex, levels = c('M', 'F')),\n",
    "                      group =factor(Group, levels=c('CTR', 'CHR', 'FEP')))\n",
    "\n",
    "# exposure vs cortical thickness \n",
    "model <- dat %>% filter(group %in% c('FEP', 'CHR')) %>% \n",
    "  lmrob(mean_thickness ~ Lifetime_ap_exposure + Age + Sex + Group, na.action=na.omit, data=.)\n",
    "\n",
    "model %>% summary()"
   ]
  },
  {
   "cell_type": "code",
   "execution_count": 17,
   "id": "0984a033-1231-4630-9681-f1f3497b3067",
   "metadata": {},
   "outputs": [
    {
     "data": {
      "text/html": [
       "<table class=\"dataframe\">\n",
       "<caption>A matrix: 5 × 2 of type dbl</caption>\n",
       "<thead>\n",
       "\t<tr><th></th><th scope=col>2.5 %</th><th scope=col>97.5 %</th></tr>\n",
       "</thead>\n",
       "<tbody>\n",
       "\t<tr><th scope=row>(Intercept)</th><td> 2.574812e+00</td><td> 2.697237e+00</td></tr>\n",
       "\t<tr><th scope=row>Lifetime_ap_exposure</th><td>-1.664085e-06</td><td>-5.909500e-07</td></tr>\n",
       "\t<tr><th scope=row>Age</th><td>-4.931578e-03</td><td>-6.966632e-04</td></tr>\n",
       "\t<tr><th scope=row>SexF</th><td>-6.059479e-02</td><td>-3.229555e-03</td></tr>\n",
       "\t<tr><th scope=row>GroupFEP</th><td>-4.997944e-02</td><td> 1.048614e-02</td></tr>\n",
       "</tbody>\n",
       "</table>\n"
      ],
      "text/latex": [
       "A matrix: 5 × 2 of type dbl\n",
       "\\begin{tabular}{r|ll}\n",
       "  & 2.5 \\% & 97.5 \\%\\\\\n",
       "\\hline\n",
       "\t(Intercept) &  2.574812e+00 &  2.697237e+00\\\\\n",
       "\tLifetime\\_ap\\_exposure & -1.664085e-06 & -5.909500e-07\\\\\n",
       "\tAge & -4.931578e-03 & -6.966632e-04\\\\\n",
       "\tSexF & -6.059479e-02 & -3.229555e-03\\\\\n",
       "\tGroupFEP & -4.997944e-02 &  1.048614e-02\\\\\n",
       "\\end{tabular}\n"
      ],
      "text/markdown": [
       "\n",
       "A matrix: 5 × 2 of type dbl\n",
       "\n",
       "| <!--/--> | 2.5 % | 97.5 % |\n",
       "|---|---|---|\n",
       "| (Intercept) |  2.574812e+00 |  2.697237e+00 |\n",
       "| Lifetime_ap_exposure | -1.664085e-06 | -5.909500e-07 |\n",
       "| Age | -4.931578e-03 | -6.966632e-04 |\n",
       "| SexF | -6.059479e-02 | -3.229555e-03 |\n",
       "| GroupFEP | -4.997944e-02 |  1.048614e-02 |\n",
       "\n"
      ],
      "text/plain": [
       "                     2.5 %         97.5 %       \n",
       "(Intercept)           2.574812e+00  2.697237e+00\n",
       "Lifetime_ap_exposure -1.664085e-06 -5.909500e-07\n",
       "Age                  -4.931578e-03 -6.966632e-04\n",
       "SexF                 -6.059479e-02 -3.229555e-03\n",
       "GroupFEP             -4.997944e-02  1.048614e-02"
      ]
     },
     "metadata": {},
     "output_type": "display_data"
    },
    {
     "name": "stdout",
     "output_type": "stream",
     "text": [
      "[1] \"residuals: 126\"\n"
     ]
    }
   ],
   "source": [
    "model %>% confint()\n",
    "\n",
    "print(paste('residuals:', model$df.residual))"
   ]
  },
  {
   "cell_type": "code",
   "execution_count": 54,
   "id": "01ff0bed",
   "metadata": {},
   "outputs": [
    {
     "data": {
      "text/html": [
       "<table class=\"dataframe\">\n",
       "<caption>A data.frame: 8 × 7</caption>\n",
       "<thead>\n",
       "\t<tr><th scope=col>Covariate</th><th scope=col>Estimate</th><th scope=col>2.5% quantile</th><th scope=col>97.5% quantile</th><th scope=col>df</th><th scope=col>t-value</th><th scope=col>p-value</th></tr>\n",
       "\t<tr><th scope=col>&lt;chr&gt;</th><th scope=col>&lt;dbl&gt;</th><th scope=col>&lt;dbl&gt;</th><th scope=col>&lt;dbl&gt;</th><th scope=col>&lt;dbl&gt;</th><th scope=col>&lt;dbl&gt;</th><th scope=col>&lt;dbl&gt;</th></tr>\n",
       "</thead>\n",
       "<tbody>\n",
       "\t<tr><td>Total_symptoms_score   </td><td>-1.196205e-06</td><td>-1.693172e-06</td><td>-6.992372e-07</td><td>120</td><td>-4.765708</td><td>5.329216e-06</td></tr>\n",
       "\t<tr><td>Positive_symptoms_score</td><td>-1.200869e-06</td><td>-1.717961e-06</td><td>-6.837776e-07</td><td>120</td><td>-4.598097</td><td>1.063677e-05</td></tr>\n",
       "\t<tr><td>Negative_symptoms_score</td><td>-1.206886e-06</td><td>-1.699264e-06</td><td>-7.145075e-07</td><td>120</td><td>-4.853078</td><td>3.694999e-06</td></tr>\n",
       "\t<tr><td>BMI                    </td><td>-1.088512e-06</td><td>-1.586438e-06</td><td>-5.905862e-07</td><td>125</td><td>-4.326548</td><td>3.069204e-05</td></tr>\n",
       "\t<tr><td>Hospital_days          </td><td>-1.040095e-06</td><td>-1.662274e-06</td><td>-4.179164e-07</td><td>124</td><td>-3.308760</td><td>1.226916e-03</td></tr>\n",
       "\t<tr><td>Times_admitted         </td><td>-1.050679e-06</td><td>-1.610185e-06</td><td>-4.911726e-07</td><td>124</td><td>-3.716827</td><td>3.039683e-04</td></tr>\n",
       "\t<tr><td>GAF                    </td><td>-1.163543e-06</td><td>-1.722611e-06</td><td>-6.044757e-07</td><td>125</td><td>-4.118996</td><td>6.869324e-05</td></tr>\n",
       "\t<tr><td>SOFAS                  </td><td>-1.164073e-06</td><td>-1.714481e-06</td><td>-6.136661e-07</td><td>125</td><td>-4.185711</td><td>5.317290e-05</td></tr>\n",
       "</tbody>\n",
       "</table>\n"
      ],
      "text/latex": [
       "A data.frame: 8 × 7\n",
       "\\begin{tabular}{lllllll}\n",
       " Covariate & Estimate & 2.5\\% quantile & 97.5\\% quantile & df & t-value & p-value\\\\\n",
       " <chr> & <dbl> & <dbl> & <dbl> & <dbl> & <dbl> & <dbl>\\\\\n",
       "\\hline\n",
       "\t Total\\_symptoms\\_score    & -1.196205e-06 & -1.693172e-06 & -6.992372e-07 & 120 & -4.765708 & 5.329216e-06\\\\\n",
       "\t Positive\\_symptoms\\_score & -1.200869e-06 & -1.717961e-06 & -6.837776e-07 & 120 & -4.598097 & 1.063677e-05\\\\\n",
       "\t Negative\\_symptoms\\_score & -1.206886e-06 & -1.699264e-06 & -7.145075e-07 & 120 & -4.853078 & 3.694999e-06\\\\\n",
       "\t BMI                     & -1.088512e-06 & -1.586438e-06 & -5.905862e-07 & 125 & -4.326548 & 3.069204e-05\\\\\n",
       "\t Hospital\\_days           & -1.040095e-06 & -1.662274e-06 & -4.179164e-07 & 124 & -3.308760 & 1.226916e-03\\\\\n",
       "\t Times\\_admitted          & -1.050679e-06 & -1.610185e-06 & -4.911726e-07 & 124 & -3.716827 & 3.039683e-04\\\\\n",
       "\t GAF                     & -1.163543e-06 & -1.722611e-06 & -6.044757e-07 & 125 & -4.118996 & 6.869324e-05\\\\\n",
       "\t SOFAS                   & -1.164073e-06 & -1.714481e-06 & -6.136661e-07 & 125 & -4.185711 & 5.317290e-05\\\\\n",
       "\\end{tabular}\n"
      ],
      "text/markdown": [
       "\n",
       "A data.frame: 8 × 7\n",
       "\n",
       "| Covariate &lt;chr&gt; | Estimate &lt;dbl&gt; | 2.5% quantile &lt;dbl&gt; | 97.5% quantile &lt;dbl&gt; | df &lt;dbl&gt; | t-value &lt;dbl&gt; | p-value &lt;dbl&gt; |\n",
       "|---|---|---|---|---|---|---|\n",
       "| Total_symptoms_score    | -1.196205e-06 | -1.693172e-06 | -6.992372e-07 | 120 | -4.765708 | 5.329216e-06 |\n",
       "| Positive_symptoms_score | -1.200869e-06 | -1.717961e-06 | -6.837776e-07 | 120 | -4.598097 | 1.063677e-05 |\n",
       "| Negative_symptoms_score | -1.206886e-06 | -1.699264e-06 | -7.145075e-07 | 120 | -4.853078 | 3.694999e-06 |\n",
       "| BMI                     | -1.088512e-06 | -1.586438e-06 | -5.905862e-07 | 125 | -4.326548 | 3.069204e-05 |\n",
       "| Hospital_days           | -1.040095e-06 | -1.662274e-06 | -4.179164e-07 | 124 | -3.308760 | 1.226916e-03 |\n",
       "| Times_admitted          | -1.050679e-06 | -1.610185e-06 | -4.911726e-07 | 124 | -3.716827 | 3.039683e-04 |\n",
       "| GAF                     | -1.163543e-06 | -1.722611e-06 | -6.044757e-07 | 125 | -4.118996 | 6.869324e-05 |\n",
       "| SOFAS                   | -1.164073e-06 | -1.714481e-06 | -6.136661e-07 | 125 | -4.185711 | 5.317290e-05 |\n",
       "\n"
      ],
      "text/plain": [
       "  Covariate               Estimate      2.5% quantile 97.5% quantile df \n",
       "1 Total_symptoms_score    -1.196205e-06 -1.693172e-06 -6.992372e-07  120\n",
       "2 Positive_symptoms_score -1.200869e-06 -1.717961e-06 -6.837776e-07  120\n",
       "3 Negative_symptoms_score -1.206886e-06 -1.699264e-06 -7.145075e-07  120\n",
       "4 BMI                     -1.088512e-06 -1.586438e-06 -5.905862e-07  125\n",
       "5 Hospital_days           -1.040095e-06 -1.662274e-06 -4.179164e-07  124\n",
       "6 Times_admitted          -1.050679e-06 -1.610185e-06 -4.911726e-07  124\n",
       "7 GAF                     -1.163543e-06 -1.722611e-06 -6.044757e-07  125\n",
       "8 SOFAS                   -1.164073e-06 -1.714481e-06 -6.136661e-07  125\n",
       "  t-value   p-value     \n",
       "1 -4.765708 5.329216e-06\n",
       "2 -4.598097 1.063677e-05\n",
       "3 -4.853078 3.694999e-06\n",
       "4 -4.326548 3.069204e-05\n",
       "5 -3.308760 1.226916e-03\n",
       "6 -3.716827 3.039683e-04\n",
       "7 -4.118996 6.869324e-05\n",
       "8 -4.185711 5.317290e-05"
      ]
     },
     "metadata": {},
     "output_type": "display_data"
    }
   ],
   "source": [
    "# covariates in sensitivity analyses \n",
    "covars <- c(\"Total_symptoms_score\", \"Positive_symptoms_score\", \"Negative_symptoms_score\", \"BMI\", \"Hospital_days\", \"Times_admitted\",\n",
    "            \"GAF\", \"SOFAS\")\n",
    "\n",
    "# estimate the effects including one of the sensitivity covariates in the model at the time \n",
    "vals <- matrix(nrow=length(covars), ncol=7 )\n",
    "for (i in seq(from=1,to=length(covars))){\n",
    "  formula <- reformulate(termlabels =  c(\"Lifetime_ap_exposure\",\"Age\",\"Sex\",\"Group\", covars[i]), response = 'mean_thickness')\n",
    "  m <- dat %>% filter(group %in% c('FEP', 'CHR')) %>%\n",
    "    lmrob(formula = formula, data=.)\n",
    "  tmp <- c(m$df.residual, as.vector(summary(m)$coefficients[2,]), as.vector(confint(m)[2,]))    \n",
    "  vals[i,] <- tmp # get parameters for \"Lifetime_ap_exposure\"\n",
    "}\n",
    "\n",
    "# make printable \n",
    "df <- as.data.frame(vals)\n",
    "df$covariate <- covars \n",
    "df <- df[,c(8,2,6,7,1, 4,5)]\n",
    "names(df) <- c(\"Covariate\", \"Estimate\", \"2.5% quantile\", \"97.5% quantile\", \"df\", \"t-value\", \"p-value\")\n",
    "# print out the parameters for \"Lifetime_ap_exposure\" of each of the sensitivity model \n",
    "df #%>% format(scientific=TRUE)"
   ]
  },
  {
   "cell_type": "code",
   "execution_count": null,
   "id": "1bc99e9e-9374-478a-9131-ef3f64948ed3",
   "metadata": {},
   "outputs": [],
   "source": []
  }
 ],
 "metadata": {
  "kernelspec": {
   "display_name": "R",
   "language": "R",
   "name": "ir"
  },
  "language_info": {
   "codemirror_mode": "r",
   "file_extension": ".r",
   "mimetype": "text/x-r-source",
   "name": "R",
   "pygments_lexer": "r",
   "version": "4.2.3"
  }
 },
 "nbformat": 4,
 "nbformat_minor": 5
}
