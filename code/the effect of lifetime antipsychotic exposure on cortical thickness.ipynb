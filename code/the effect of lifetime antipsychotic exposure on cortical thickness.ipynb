{
 "cells": [
  {
   "cell_type": "code",
   "execution_count": 21,
   "id": "33799e0b",
   "metadata": {},
   "outputs": [],
   "source": [
    "library('tidyverse', warn.conflicts = FALSE)\n",
    "library('robustbase')\n"
   ]
  },
  {
   "cell_type": "code",
   "execution_count": 15,
   "id": "f8321c25",
   "metadata": {},
   "outputs": [
    {
     "data": {
      "text/plain": [
       "\n",
       "Call:\n",
       "lmrob(formula = mean_thickness ~ Lifetime_ap_exposure + Age + Sex + Group, \n",
       "    data = ., na.action = na.omit)\n",
       " \\--> method = \"MM\"\n",
       "Residuals:\n",
       "      Min        1Q    Median        3Q       Max \n",
       "-0.193418 -0.060363 -0.002415  0.060400  0.197560 \n",
       "\n",
       "Coefficients:\n",
       "                       Estimate Std. Error t value Pr(>|t|)    \n",
       "(Intercept)           2.636e+00  3.093e-02  85.234  < 2e-16 ***\n",
       "Lifetime_ap_exposure -1.127e-06  2.719e-07  -4.146 6.17e-05 ***\n",
       "Age                  -2.814e-03  1.070e-03  -2.631  0.00959 ** \n",
       "SexF                 -3.190e-02  1.443e-02  -2.211  0.02887 *  \n",
       "GroupFEP             -1.975e-02  1.526e-02  -1.294  0.19795    \n",
       "---\n",
       "Signif. codes:  0 ‘***’ 0.001 ‘**’ 0.01 ‘*’ 0.05 ‘.’ 0.1 ‘ ’ 1\n",
       "\n",
       "Robust residual standard error: 0.08622 \n",
       "Multiple R-squared:  0.1828,\tAdjusted R-squared:  0.1569 \n",
       "Convergence in 9 IRWLS iterations\n",
       "\n",
       "Robustness weights: \n",
       " 15 weights are ~= 1. The remaining 116 ones are summarized as\n",
       "   Min. 1st Qu.  Median    Mean 3rd Qu.    Max. \n",
       " 0.5788  0.8933  0.9501  0.9190  0.9807  0.9987 \n",
       "Algorithmic parameters: \n",
       "       tuning.chi                bb        tuning.psi        refine.tol \n",
       "        1.548e+00         5.000e-01         4.685e+00         1.000e-07 \n",
       "          rel.tol         scale.tol         solve.tol       eps.outlier \n",
       "        1.000e-07         1.000e-10         1.000e-07         7.634e-04 \n",
       "            eps.x warn.limit.reject warn.limit.meanrw \n",
       "        2.496e-07         5.000e-01         5.000e-01 \n",
       "     nResample         max.it       best.r.s       k.fast.s          k.max \n",
       "           500             50              2              1            200 \n",
       "   maxit.scale      trace.lev            mts     compute.rd fast.s.large.n \n",
       "           200              0           1000              0           2000 \n",
       "                  psi           subsampling                   cov \n",
       "           \"bisquare\"         \"nonsingular\"         \".vcov.avar1\" \n",
       "compute.outlier.stats \n",
       "                 \"SM\" \n",
       "seed : int(0) "
      ]
     },
     "metadata": {},
     "output_type": "display_data"
    }
   ],
   "source": [
    "master <- \"/Users/laurituominen/Documents/Research/Reettis/new_analyses/master/\"\n",
    "dat <- read_csv(paste0(master, 'merged_data.csv'),show_col_types = FALSE)\n",
    "\n",
    "dat <- dat %>% mutate(Sex = factor(Sex, levels = c('M', 'F')),\n",
    "                      group =factor(Group, levels=c('CTR', 'CHR', 'FEP')))\n",
    "\n",
    "# exposure vs cortical thickness \n",
    "dat %>% filter(group %in% c('FEP', 'CHR')) %>% \n",
    "  lmrob(mean_thickness ~ Lifetime_ap_exposure + Age + Sex + Group, na.action=na.omit, data=.) %>%\n",
    "  summary()"
   ]
  },
  {
   "cell_type": "code",
   "execution_count": 36,
   "id": "01ff0bed",
   "metadata": {},
   "outputs": [
    {
     "data": {
      "text/html": [
       "<table class=\"dataframe\">\n",
       "<caption>A data.frame: 8 × 5</caption>\n",
       "<thead>\n",
       "\t<tr><th></th><th scope=col>Covariate</th><th scope=col>Estimate</th><th scope=col>Std. Error</th><th scope=col>t value</th><th scope=col>Pr(&gt;|t|)</th></tr>\n",
       "\t<tr><th></th><th scope=col>&lt;I&lt;chr&gt;&gt;</th><th scope=col>&lt;I&lt;chr&gt;&gt;</th><th scope=col>&lt;I&lt;chr&gt;&gt;</th><th scope=col>&lt;I&lt;chr&gt;&gt;</th><th scope=col>&lt;I&lt;chr&gt;&gt;</th></tr>\n",
       "</thead>\n",
       "<tbody>\n",
       "\t<tr><th scope=row>1</th><td>Total_symptoms_score   </td><td>-0.000001196205</td><td>0.0000002510025</td><td>-4.765708</td><td>0.000005329216</td></tr>\n",
       "\t<tr><th scope=row>2</th><td>Positive_symptoms_score</td><td>-0.000001200869</td><td>0.0000002611666</td><td>-4.598097</td><td>0.000010636766</td></tr>\n",
       "\t<tr><th scope=row>3</th><td>Negative_symptoms_score</td><td>-0.000001206891</td><td>0.0000002486682</td><td>-4.853419</td><td>0.000003689690</td></tr>\n",
       "\t<tr><th scope=row>4</th><td>BMI                    </td><td>-0.000001088181</td><td>0.0000002533377</td><td>-4.295375</td><td>0.000034697531</td></tr>\n",
       "\t<tr><th scope=row>5</th><td>Hospital_days          </td><td>-0.000001040095</td><td>0.0000003143459</td><td>-3.308759</td><td>0.001226917059</td></tr>\n",
       "\t<tr><th scope=row>6</th><td>Times_admitted         </td><td>-0.000001050679</td><td>0.0000002826816</td><td>-3.716827</td><td>0.000303968242</td></tr>\n",
       "\t<tr><th scope=row>7</th><td>GAF                    </td><td>-0.000001163543</td><td>0.0000002824823</td><td>-4.118996</td><td>0.000068693240</td></tr>\n",
       "\t<tr><th scope=row>8</th><td>SOFAS                  </td><td>-0.000001163934</td><td>0.0000002786524</td><td>-4.177011</td><td>0.000054987136</td></tr>\n",
       "</tbody>\n",
       "</table>\n"
      ],
      "text/latex": [
       "A data.frame: 8 × 5\n",
       "\\begin{tabular}{r|lllll}\n",
       "  & Covariate & Estimate & Std. Error & t value & Pr(>\\textbar{}t\\textbar{})\\\\\n",
       "  & <I<chr>> & <I<chr>> & <I<chr>> & <I<chr>> & <I<chr>>\\\\\n",
       "\\hline\n",
       "\t1 & Total\\_symptoms\\_score    & -0.000001196205 & 0.0000002510025 & -4.765708 & 0.000005329216\\\\\n",
       "\t2 & Positive\\_symptoms\\_score & -0.000001200869 & 0.0000002611666 & -4.598097 & 0.000010636766\\\\\n",
       "\t3 & Negative\\_symptoms\\_score & -0.000001206891 & 0.0000002486682 & -4.853419 & 0.000003689690\\\\\n",
       "\t4 & BMI                     & -0.000001088181 & 0.0000002533377 & -4.295375 & 0.000034697531\\\\\n",
       "\t5 & Hospital\\_days           & -0.000001040095 & 0.0000003143459 & -3.308759 & 0.001226917059\\\\\n",
       "\t6 & Times\\_admitted          & -0.000001050679 & 0.0000002826816 & -3.716827 & 0.000303968242\\\\\n",
       "\t7 & GAF                     & -0.000001163543 & 0.0000002824823 & -4.118996 & 0.000068693240\\\\\n",
       "\t8 & SOFAS                   & -0.000001163934 & 0.0000002786524 & -4.177011 & 0.000054987136\\\\\n",
       "\\end{tabular}\n"
      ],
      "text/markdown": [
       "\n",
       "A data.frame: 8 × 5\n",
       "\n",
       "| <!--/--> | Covariate &lt;I&lt;chr&gt;&gt; | Estimate &lt;I&lt;chr&gt;&gt; | Std. Error &lt;I&lt;chr&gt;&gt; | t value &lt;I&lt;chr&gt;&gt; | Pr(&gt;|t|) &lt;I&lt;chr&gt;&gt; |\n",
       "|---|---|---|---|---|---|\n",
       "| 1 | Total_symptoms_score    | -0.000001196205 | 0.0000002510025 | -4.765708 | 0.000005329216 |\n",
       "| 2 | Positive_symptoms_score | -0.000001200869 | 0.0000002611666 | -4.598097 | 0.000010636766 |\n",
       "| 3 | Negative_symptoms_score | -0.000001206891 | 0.0000002486682 | -4.853419 | 0.000003689690 |\n",
       "| 4 | BMI                     | -0.000001088181 | 0.0000002533377 | -4.295375 | 0.000034697531 |\n",
       "| 5 | Hospital_days           | -0.000001040095 | 0.0000003143459 | -3.308759 | 0.001226917059 |\n",
       "| 6 | Times_admitted          | -0.000001050679 | 0.0000002826816 | -3.716827 | 0.000303968242 |\n",
       "| 7 | GAF                     | -0.000001163543 | 0.0000002824823 | -4.118996 | 0.000068693240 |\n",
       "| 8 | SOFAS                   | -0.000001163934 | 0.0000002786524 | -4.177011 | 0.000054987136 |\n",
       "\n"
      ],
      "text/plain": [
       "  Covariate               Estimate        Std. Error      t value  \n",
       "1 Total_symptoms_score    -0.000001196205 0.0000002510025 -4.765708\n",
       "2 Positive_symptoms_score -0.000001200869 0.0000002611666 -4.598097\n",
       "3 Negative_symptoms_score -0.000001206891 0.0000002486682 -4.853419\n",
       "4 BMI                     -0.000001088181 0.0000002533377 -4.295375\n",
       "5 Hospital_days           -0.000001040095 0.0000003143459 -3.308759\n",
       "6 Times_admitted          -0.000001050679 0.0000002826816 -3.716827\n",
       "7 GAF                     -0.000001163543 0.0000002824823 -4.118996\n",
       "8 SOFAS                   -0.000001163934 0.0000002786524 -4.177011\n",
       "  Pr(>|t|)      \n",
       "1 0.000005329216\n",
       "2 0.000010636766\n",
       "3 0.000003689690\n",
       "4 0.000034697531\n",
       "5 0.001226917059\n",
       "6 0.000303968242\n",
       "7 0.000068693240\n",
       "8 0.000054987136"
      ]
     },
     "metadata": {},
     "output_type": "display_data"
    }
   ],
   "source": [
    "# covariates in sensitivity analyses \n",
    "covars <- c(\"Total_symptoms_score\", \"Positive_symptoms_score\", \"Negative_symptoms_score\", \"BMI\", \"Hospital_days\", \"Times_admitted\",\n",
    "            \"GAF\", \"SOFAS\")\n",
    "\n",
    "# estimate the effects including one of the sensitivity covariates in the model at the time \n",
    "vals <- matrix(nrow=length(covars), ncol=4 )\n",
    "for (i in seq(from=1,to=length(covars))){\n",
    "  formula <- reformulate(termlabels =  c(\"Lifetime_ap_exposure\",\"Age\",\"Sex\",\"Group\", covars[i]), response = 'mean_thickness')\n",
    "  m <- dat %>% filter(group %in% c('FEP', 'CHR')) %>%\n",
    "    lmrob(formula = formula, data=.) %>%\n",
    "    summary()\n",
    "  vals[i,] <- as.vector(m$coefficients[2,]) # get parameters for \"Lifetime_ap_exposure\"\n",
    "}\n",
    "\n",
    "# make printable \n",
    "df <- as.data.frame(vals)\n",
    "df$covariate <- covars \n",
    "df <- df[,c(5,1,2,3,4)]\n",
    "names(df) <- c(\"Covariate\", \"Estimate\", \"Std. Error\", \"t value\", \"Pr(>|t|)\")\n",
    "# print out the parameters for \"Lifetime_ap_exposure\" of each of the sensitivity model \n",
    "df %>% format(scientific=FALSE)"
   ]
  }
 ],
 "metadata": {
  "kernelspec": {
   "display_name": "R",
   "language": "R",
   "name": "ir"
  },
  "language_info": {
   "codemirror_mode": "r",
   "file_extension": ".r",
   "mimetype": "text/x-r-source",
   "name": "R",
   "pygments_lexer": "r",
   "version": "4.2.3"
  }
 },
 "nbformat": 4,
 "nbformat_minor": 5
}
